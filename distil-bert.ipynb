{
 "cells": [
  {
   "cell_type": "code",
   "execution_count": 1,
   "id": "c14af221",
   "metadata": {
    "_cell_guid": "b1076dfc-b9ad-4769-8c92-a6c4dae69d19",
    "_uuid": "8f2839f25d086af736a60e9eeb907d3b93b6e0e5",
    "execution": {
     "iopub.execute_input": "2023-07-02T19:34:56.597294Z",
     "iopub.status.busy": "2023-07-02T19:34:56.596657Z",
     "iopub.status.idle": "2023-07-02T19:34:56.610823Z",
     "shell.execute_reply": "2023-07-02T19:34:56.609961Z"
    },
    "papermill": {
     "duration": 0.026875,
     "end_time": "2023-07-02T19:34:56.613205",
     "exception": false,
     "start_time": "2023-07-02T19:34:56.586330",
     "status": "completed"
    },
    "tags": []
   },
   "outputs": [
    {
     "name": "stdout",
     "output_type": "stream",
     "text": [
      "/kaggle/input/jigsaw-toxic-comment-classification-challenge/train.csv.zip\n",
      "/kaggle/input/jigsaw-toxic-comment-classification-challenge/sample_submission.csv.zip\n",
      "/kaggle/input/jigsaw-toxic-comment-classification-challenge/test_labels.csv.zip\n",
      "/kaggle/input/jigsaw-toxic-comment-classification-challenge/test.csv.zip\n"
     ]
    }
   ],
   "source": [
    "# This Python 3 environment comes with many helpful analytics libraries installed\n",
    "# It is defined by the kaggle/python Docker image: https://github.com/kaggle/docker-python\n",
    "# For example, here's several helpful packages to load\n",
    "\n",
    "import numpy as np # linear algebra\n",
    "import pandas as pd # data processing, CSV file I/O (e.g. pd.read_csv)\n",
    "\n",
    "# Input data files are available in the read-only \"../input/\" directory\n",
    "# For example, running this (by clicking run or pressing Shift+Enter) will list all files under the input directory\n",
    "\n",
    "import os\n",
    "for dirname, _, filenames in os.walk('/kaggle/input'):\n",
    "    for filename in filenames:\n",
    "        print(os.path.join(dirname, filename))\n",
    "\n",
    "# You can write up to 20GB to the current directory (/kaggle/working/) that gets preserved as output when you create a version using \"Save & Run All\" \n",
    "# You can also write temporary files to /kaggle/temp/, but they won't be saved outside of the current session"
   ]
  },
  {
   "cell_type": "code",
   "execution_count": 2,
   "id": "be14fb85",
   "metadata": {
    "execution": {
     "iopub.execute_input": "2023-07-02T19:34:56.631683Z",
     "iopub.status.busy": "2023-07-02T19:34:56.630808Z",
     "iopub.status.idle": "2023-07-02T19:35:02.048471Z",
     "shell.execute_reply": "2023-07-02T19:35:02.047373Z"
    },
    "papermill": {
     "duration": 5.429462,
     "end_time": "2023-07-02T19:35:02.051104",
     "exception": false,
     "start_time": "2023-07-02T19:34:56.621642",
     "status": "completed"
    },
    "tags": []
   },
   "outputs": [
    {
     "name": "stdout",
     "output_type": "stream",
     "text": [
      "Archive:  ../input/jigsaw-toxic-comment-classification-challenge/train.csv.zip\r\n",
      "  inflating: train.csv               \r\n",
      "Archive:  ../input/jigsaw-toxic-comment-classification-challenge/test.csv.zip\r\n",
      "  inflating: test.csv                \r\n",
      "Archive:  ../input/jigsaw-toxic-comment-classification-challenge/test_labels.csv.zip\r\n",
      "  inflating: test_labels.csv         \r\n",
      "Archive:  ../input/jigsaw-toxic-comment-classification-challenge/sample_submission.csv.zip\r\n",
      "  inflating: sample_submission.csv   \r\n"
     ]
    }
   ],
   "source": [
    "!unzip ../input/jigsaw-toxic-comment-classification-challenge/train.csv.zip\n",
    "!unzip ../input/jigsaw-toxic-comment-classification-challenge/test.csv.zip\n",
    "!unzip ../input/jigsaw-toxic-comment-classification-challenge/test_labels.csv.zip\n",
    "!unzip ../input/jigsaw-toxic-comment-classification-challenge/sample_submission.csv.zip"
   ]
  },
  {
   "cell_type": "code",
   "execution_count": 3,
   "id": "61e4f67d",
   "metadata": {
    "execution": {
     "iopub.execute_input": "2023-07-02T19:35:02.070854Z",
     "iopub.status.busy": "2023-07-02T19:35:02.070093Z",
     "iopub.status.idle": "2023-07-02T19:35:07.359502Z",
     "shell.execute_reply": "2023-07-02T19:35:07.358450Z"
    },
    "papermill": {
     "duration": 5.302182,
     "end_time": "2023-07-02T19:35:07.362420",
     "exception": false,
     "start_time": "2023-07-02T19:35:02.060238",
     "status": "completed"
    },
    "tags": []
   },
   "outputs": [],
   "source": [
    "import os\n",
    "import seaborn as sns\n",
    "import matplotlib.pyplot as plt\n",
    "plt.style.use('ggplot')\n",
    "import matplotlib.pyplot as plt\n",
    "import torch as nn\n",
    "from sklearn.model_selection import train_test_split\n",
    "from torch.nn import Dropout , Linear "
   ]
  },
  {
   "cell_type": "code",
   "execution_count": 4,
   "id": "cf6407f3",
   "metadata": {
    "execution": {
     "iopub.execute_input": "2023-07-02T19:35:07.383462Z",
     "iopub.status.busy": "2023-07-02T19:35:07.382919Z",
     "iopub.status.idle": "2023-07-02T19:35:07.387563Z",
     "shell.execute_reply": "2023-07-02T19:35:07.386597Z"
    },
    "papermill": {
     "duration": 0.017337,
     "end_time": "2023-07-02T19:35:07.389930",
     "exception": false,
     "start_time": "2023-07-02T19:35:07.372593",
     "status": "completed"
    },
    "tags": []
   },
   "outputs": [],
   "source": [
    "### Config File\n",
    "TRAIN = './train.csv'\n",
    "TEST = './test.csv'\n",
    "TEST_LABEL = './test_labels.csv'\n",
    "SAMPLE = './sample_submission.csv'\n",
    "EPOCHS = 1"
   ]
  },
  {
   "cell_type": "code",
   "execution_count": 5,
   "id": "0117c464",
   "metadata": {
    "execution": {
     "iopub.execute_input": "2023-07-02T19:35:07.409153Z",
     "iopub.status.busy": "2023-07-02T19:35:07.408895Z",
     "iopub.status.idle": "2023-07-02T19:35:09.466334Z",
     "shell.execute_reply": "2023-07-02T19:35:09.465366Z"
    },
    "papermill": {
     "duration": 2.069414,
     "end_time": "2023-07-02T19:35:09.468846",
     "exception": false,
     "start_time": "2023-07-02T19:35:07.399432",
     "status": "completed"
    },
    "tags": []
   },
   "outputs": [],
   "source": [
    "train_csv = pd.read_csv(TRAIN)\n",
    "test_csv = pd.read_csv(TEST)\n",
    "test_label = pd.read_csv(TEST_LABEL)\n",
    "sample_sub = pd.read_csv(SAMPLE)"
   ]
  },
  {
   "cell_type": "code",
   "execution_count": 6,
   "id": "81ca6755",
   "metadata": {
    "execution": {
     "iopub.execute_input": "2023-07-02T19:35:09.488811Z",
     "iopub.status.busy": "2023-07-02T19:35:09.488422Z",
     "iopub.status.idle": "2023-07-02T19:35:09.545641Z",
     "shell.execute_reply": "2023-07-02T19:35:09.544468Z"
    },
    "papermill": {
     "duration": 0.070353,
     "end_time": "2023-07-02T19:35:09.548739",
     "exception": false,
     "start_time": "2023-07-02T19:35:09.478386",
     "status": "completed"
    },
    "tags": []
   },
   "outputs": [
    {
     "data": {
      "text/html": [
       "<div>\n",
       "<style scoped>\n",
       "    .dataframe tbody tr th:only-of-type {\n",
       "        vertical-align: middle;\n",
       "    }\n",
       "\n",
       "    .dataframe tbody tr th {\n",
       "        vertical-align: top;\n",
       "    }\n",
       "\n",
       "    .dataframe thead th {\n",
       "        text-align: right;\n",
       "    }\n",
       "</style>\n",
       "<table border=\"1\" class=\"dataframe\">\n",
       "  <thead>\n",
       "    <tr style=\"text-align: right;\">\n",
       "      <th></th>\n",
       "      <th>toxic</th>\n",
       "      <th>severe_toxic</th>\n",
       "      <th>obscene</th>\n",
       "      <th>threat</th>\n",
       "      <th>insult</th>\n",
       "      <th>identity_hate</th>\n",
       "    </tr>\n",
       "  </thead>\n",
       "  <tbody>\n",
       "    <tr>\n",
       "      <th>count</th>\n",
       "      <td>159571.000000</td>\n",
       "      <td>159571.000000</td>\n",
       "      <td>159571.000000</td>\n",
       "      <td>159571.000000</td>\n",
       "      <td>159571.000000</td>\n",
       "      <td>159571.000000</td>\n",
       "    </tr>\n",
       "    <tr>\n",
       "      <th>mean</th>\n",
       "      <td>0.095844</td>\n",
       "      <td>0.009996</td>\n",
       "      <td>0.052948</td>\n",
       "      <td>0.002996</td>\n",
       "      <td>0.049364</td>\n",
       "      <td>0.008805</td>\n",
       "    </tr>\n",
       "    <tr>\n",
       "      <th>std</th>\n",
       "      <td>0.294379</td>\n",
       "      <td>0.099477</td>\n",
       "      <td>0.223931</td>\n",
       "      <td>0.054650</td>\n",
       "      <td>0.216627</td>\n",
       "      <td>0.093420</td>\n",
       "    </tr>\n",
       "    <tr>\n",
       "      <th>min</th>\n",
       "      <td>0.000000</td>\n",
       "      <td>0.000000</td>\n",
       "      <td>0.000000</td>\n",
       "      <td>0.000000</td>\n",
       "      <td>0.000000</td>\n",
       "      <td>0.000000</td>\n",
       "    </tr>\n",
       "    <tr>\n",
       "      <th>25%</th>\n",
       "      <td>0.000000</td>\n",
       "      <td>0.000000</td>\n",
       "      <td>0.000000</td>\n",
       "      <td>0.000000</td>\n",
       "      <td>0.000000</td>\n",
       "      <td>0.000000</td>\n",
       "    </tr>\n",
       "    <tr>\n",
       "      <th>50%</th>\n",
       "      <td>0.000000</td>\n",
       "      <td>0.000000</td>\n",
       "      <td>0.000000</td>\n",
       "      <td>0.000000</td>\n",
       "      <td>0.000000</td>\n",
       "      <td>0.000000</td>\n",
       "    </tr>\n",
       "    <tr>\n",
       "      <th>75%</th>\n",
       "      <td>0.000000</td>\n",
       "      <td>0.000000</td>\n",
       "      <td>0.000000</td>\n",
       "      <td>0.000000</td>\n",
       "      <td>0.000000</td>\n",
       "      <td>0.000000</td>\n",
       "    </tr>\n",
       "    <tr>\n",
       "      <th>max</th>\n",
       "      <td>1.000000</td>\n",
       "      <td>1.000000</td>\n",
       "      <td>1.000000</td>\n",
       "      <td>1.000000</td>\n",
       "      <td>1.000000</td>\n",
       "      <td>1.000000</td>\n",
       "    </tr>\n",
       "  </tbody>\n",
       "</table>\n",
       "</div>"
      ],
      "text/plain": [
       "               toxic   severe_toxic        obscene         threat  \\\n",
       "count  159571.000000  159571.000000  159571.000000  159571.000000   \n",
       "mean        0.095844       0.009996       0.052948       0.002996   \n",
       "std         0.294379       0.099477       0.223931       0.054650   \n",
       "min         0.000000       0.000000       0.000000       0.000000   \n",
       "25%         0.000000       0.000000       0.000000       0.000000   \n",
       "50%         0.000000       0.000000       0.000000       0.000000   \n",
       "75%         0.000000       0.000000       0.000000       0.000000   \n",
       "max         1.000000       1.000000       1.000000       1.000000   \n",
       "\n",
       "              insult  identity_hate  \n",
       "count  159571.000000  159571.000000  \n",
       "mean        0.049364       0.008805  \n",
       "std         0.216627       0.093420  \n",
       "min         0.000000       0.000000  \n",
       "25%         0.000000       0.000000  \n",
       "50%         0.000000       0.000000  \n",
       "75%         0.000000       0.000000  \n",
       "max         1.000000       1.000000  "
      ]
     },
     "execution_count": 6,
     "metadata": {},
     "output_type": "execute_result"
    }
   ],
   "source": [
    "train_csv.describe()"
   ]
  },
  {
   "cell_type": "code",
   "execution_count": 7,
   "id": "a8afa379",
   "metadata": {
    "execution": {
     "iopub.execute_input": "2023-07-02T19:35:09.569273Z",
     "iopub.status.busy": "2023-07-02T19:35:09.568999Z",
     "iopub.status.idle": "2023-07-02T19:35:09.581256Z",
     "shell.execute_reply": "2023-07-02T19:35:09.580125Z"
    },
    "papermill": {
     "duration": 0.024637,
     "end_time": "2023-07-02T19:35:09.583658",
     "exception": false,
     "start_time": "2023-07-02T19:35:09.559021",
     "status": "completed"
    },
    "tags": []
   },
   "outputs": [
    {
     "data": {
      "text/html": [
       "<div>\n",
       "<style scoped>\n",
       "    .dataframe tbody tr th:only-of-type {\n",
       "        vertical-align: middle;\n",
       "    }\n",
       "\n",
       "    .dataframe tbody tr th {\n",
       "        vertical-align: top;\n",
       "    }\n",
       "\n",
       "    .dataframe thead th {\n",
       "        text-align: right;\n",
       "    }\n",
       "</style>\n",
       "<table border=\"1\" class=\"dataframe\">\n",
       "  <thead>\n",
       "    <tr style=\"text-align: right;\">\n",
       "      <th></th>\n",
       "      <th>id</th>\n",
       "      <th>comment_text</th>\n",
       "      <th>toxic</th>\n",
       "      <th>severe_toxic</th>\n",
       "      <th>obscene</th>\n",
       "      <th>threat</th>\n",
       "      <th>insult</th>\n",
       "      <th>identity_hate</th>\n",
       "    </tr>\n",
       "  </thead>\n",
       "  <tbody>\n",
       "    <tr>\n",
       "      <th>0</th>\n",
       "      <td>0000997932d777bf</td>\n",
       "      <td>Explanation\\nWhy the edits made under my usern...</td>\n",
       "      <td>0</td>\n",
       "      <td>0</td>\n",
       "      <td>0</td>\n",
       "      <td>0</td>\n",
       "      <td>0</td>\n",
       "      <td>0</td>\n",
       "    </tr>\n",
       "    <tr>\n",
       "      <th>1</th>\n",
       "      <td>000103f0d9cfb60f</td>\n",
       "      <td>D'aww! He matches this background colour I'm s...</td>\n",
       "      <td>0</td>\n",
       "      <td>0</td>\n",
       "      <td>0</td>\n",
       "      <td>0</td>\n",
       "      <td>0</td>\n",
       "      <td>0</td>\n",
       "    </tr>\n",
       "    <tr>\n",
       "      <th>2</th>\n",
       "      <td>000113f07ec002fd</td>\n",
       "      <td>Hey man, I'm really not trying to edit war. It...</td>\n",
       "      <td>0</td>\n",
       "      <td>0</td>\n",
       "      <td>0</td>\n",
       "      <td>0</td>\n",
       "      <td>0</td>\n",
       "      <td>0</td>\n",
       "    </tr>\n",
       "    <tr>\n",
       "      <th>3</th>\n",
       "      <td>0001b41b1c6bb37e</td>\n",
       "      <td>\"\\nMore\\nI can't make any real suggestions on ...</td>\n",
       "      <td>0</td>\n",
       "      <td>0</td>\n",
       "      <td>0</td>\n",
       "      <td>0</td>\n",
       "      <td>0</td>\n",
       "      <td>0</td>\n",
       "    </tr>\n",
       "    <tr>\n",
       "      <th>4</th>\n",
       "      <td>0001d958c54c6e35</td>\n",
       "      <td>You, sir, are my hero. Any chance you remember...</td>\n",
       "      <td>0</td>\n",
       "      <td>0</td>\n",
       "      <td>0</td>\n",
       "      <td>0</td>\n",
       "      <td>0</td>\n",
       "      <td>0</td>\n",
       "    </tr>\n",
       "  </tbody>\n",
       "</table>\n",
       "</div>"
      ],
      "text/plain": [
       "                 id                                       comment_text  toxic  \\\n",
       "0  0000997932d777bf  Explanation\\nWhy the edits made under my usern...      0   \n",
       "1  000103f0d9cfb60f  D'aww! He matches this background colour I'm s...      0   \n",
       "2  000113f07ec002fd  Hey man, I'm really not trying to edit war. It...      0   \n",
       "3  0001b41b1c6bb37e  \"\\nMore\\nI can't make any real suggestions on ...      0   \n",
       "4  0001d958c54c6e35  You, sir, are my hero. Any chance you remember...      0   \n",
       "\n",
       "   severe_toxic  obscene  threat  insult  identity_hate  \n",
       "0             0        0       0       0              0  \n",
       "1             0        0       0       0              0  \n",
       "2             0        0       0       0              0  \n",
       "3             0        0       0       0              0  \n",
       "4             0        0       0       0              0  "
      ]
     },
     "execution_count": 7,
     "metadata": {},
     "output_type": "execute_result"
    }
   ],
   "source": [
    "train_csv.head()"
   ]
  },
  {
   "cell_type": "code",
   "execution_count": 8,
   "id": "1fc92b2c",
   "metadata": {
    "execution": {
     "iopub.execute_input": "2023-07-02T19:35:09.603730Z",
     "iopub.status.busy": "2023-07-02T19:35:09.603022Z",
     "iopub.status.idle": "2023-07-02T19:35:09.613456Z",
     "shell.execute_reply": "2023-07-02T19:35:09.612455Z"
    },
    "papermill": {
     "duration": 0.022373,
     "end_time": "2023-07-02T19:35:09.615527",
     "exception": false,
     "start_time": "2023-07-02T19:35:09.593154",
     "status": "completed"
    },
    "tags": []
   },
   "outputs": [
    {
     "data": {
      "text/plain": [
       "array([0, 1])"
      ]
     },
     "execution_count": 8,
     "metadata": {},
     "output_type": "execute_result"
    }
   ],
   "source": [
    "train_csv['toxic'].unique()"
   ]
  },
  {
   "cell_type": "code",
   "execution_count": 9,
   "id": "16db5039",
   "metadata": {
    "execution": {
     "iopub.execute_input": "2023-07-02T19:35:09.635772Z",
     "iopub.status.busy": "2023-07-02T19:35:09.635062Z",
     "iopub.status.idle": "2023-07-02T19:35:09.642250Z",
     "shell.execute_reply": "2023-07-02T19:35:09.641288Z"
    },
    "papermill": {
     "duration": 0.019203,
     "end_time": "2023-07-02T19:35:09.644129",
     "exception": false,
     "start_time": "2023-07-02T19:35:09.624926",
     "status": "completed"
    },
    "tags": []
   },
   "outputs": [
    {
     "data": {
      "text/plain": [
       "array([0, 1])"
      ]
     },
     "execution_count": 9,
     "metadata": {},
     "output_type": "execute_result"
    }
   ],
   "source": [
    "train_csv['severe_toxic'].unique()"
   ]
  },
  {
   "cell_type": "code",
   "execution_count": 10,
   "id": "f722408e",
   "metadata": {
    "execution": {
     "iopub.execute_input": "2023-07-02T19:35:09.665184Z",
     "iopub.status.busy": "2023-07-02T19:35:09.664379Z",
     "iopub.status.idle": "2023-07-02T19:35:09.671183Z",
     "shell.execute_reply": "2023-07-02T19:35:09.670380Z"
    },
    "papermill": {
     "duration": 0.018929,
     "end_time": "2023-07-02T19:35:09.673124",
     "exception": false,
     "start_time": "2023-07-02T19:35:09.654195",
     "status": "completed"
    },
    "tags": []
   },
   "outputs": [
    {
     "data": {
      "text/plain": [
       "'\"\\nMore\\nI can\\'t make any real suggestions on improvement - I wondered if the section statistics should be later on, or a subsection of \"\"types of accidents\"\"  -I think the references may need tidying so that they are all in the exact same format ie date format etc. I can do that later on, if no-one else does first - if you have any preferences for formatting style on references or want to do it yourself please let me know.\\n\\nThere appears to be a backlog on articles for review so I guess there may be a delay until a reviewer turns up. It\\'s listed in the relevant form eg Wikipedia:Good_article_nominations#Transport  \"'"
      ]
     },
     "execution_count": 10,
     "metadata": {},
     "output_type": "execute_result"
    }
   ],
   "source": [
    "train_csv['comment_text'][3]"
   ]
  },
  {
   "cell_type": "markdown",
   "id": "9e6657fc",
   "metadata": {
    "papermill": {
     "duration": 0.009351,
     "end_time": "2023-07-02T19:35:09.692020",
     "exception": false,
     "start_time": "2023-07-02T19:35:09.682669",
     "status": "completed"
    },
    "tags": []
   },
   "source": [
    "## Preprocessing"
   ]
  },
  {
   "cell_type": "code",
   "execution_count": 11,
   "id": "dcb76261",
   "metadata": {
    "execution": {
     "iopub.execute_input": "2023-07-02T19:35:09.712797Z",
     "iopub.status.busy": "2023-07-02T19:35:09.712089Z",
     "iopub.status.idle": "2023-07-02T19:35:09.718487Z",
     "shell.execute_reply": "2023-07-02T19:35:09.717686Z"
    },
    "papermill": {
     "duration": 0.01879,
     "end_time": "2023-07-02T19:35:09.720353",
     "exception": false,
     "start_time": "2023-07-02T19:35:09.701563",
     "status": "completed"
    },
    "tags": []
   },
   "outputs": [],
   "source": [
    "import re\n",
    "def text_preprocessing(text):\n",
    "    text = re.sub(r'(@.*?)[\\s]', ' ', text) #remove mentions or usernames in the text.\n",
    "    text = re.sub(r'[0-9]+' , '' ,text) # removes any sequence of digits\n",
    "\n",
    "    text = re.sub(r'\\s([@][\\w_-]+)', '', text).strip() \n",
    "    text = re.sub(r'&amp;', '&', text) #replaces the HTML entity '&' with an ampersand '&'\n",
    "    text = re.sub(r'\\s+', ' ', text).strip() #extra whitespace\n",
    "    text = text.replace(\"#\" , \" \")\n",
    "    encoded_string = text.encode(\"ascii\", \"ignore\") #encodes the text into ASCII format\n",
    "    decode_string = encoded_string.decode() #decodes the ASCII-encoded text back into a string.\n",
    "    return decode_string"
   ]
  },
  {
   "cell_type": "code",
   "execution_count": 12,
   "id": "193810fe",
   "metadata": {
    "execution": {
     "iopub.execute_input": "2023-07-02T19:35:09.740690Z",
     "iopub.status.busy": "2023-07-02T19:35:09.739972Z",
     "iopub.status.idle": "2023-07-02T19:35:09.748548Z",
     "shell.execute_reply": "2023-07-02T19:35:09.747617Z"
    },
    "papermill": {
     "duration": 0.02085,
     "end_time": "2023-07-02T19:35:09.750583",
     "exception": false,
     "start_time": "2023-07-02T19:35:09.729733",
     "status": "completed"
    },
    "tags": []
   },
   "outputs": [
    {
     "data": {
      "text/html": [
       "<div>\n",
       "<style scoped>\n",
       "    .dataframe tbody tr th:only-of-type {\n",
       "        vertical-align: middle;\n",
       "    }\n",
       "\n",
       "    .dataframe tbody tr th {\n",
       "        vertical-align: top;\n",
       "    }\n",
       "\n",
       "    .dataframe thead th {\n",
       "        text-align: right;\n",
       "    }\n",
       "</style>\n",
       "<table border=\"1\" class=\"dataframe\">\n",
       "  <thead>\n",
       "    <tr style=\"text-align: right;\">\n",
       "      <th></th>\n",
       "      <th>id</th>\n",
       "      <th>comment_text</th>\n",
       "    </tr>\n",
       "  </thead>\n",
       "  <tbody>\n",
       "    <tr>\n",
       "      <th>0</th>\n",
       "      <td>00001cee341fdb12</td>\n",
       "      <td>Yo bitch Ja Rule is more succesful then you'll...</td>\n",
       "    </tr>\n",
       "    <tr>\n",
       "      <th>1</th>\n",
       "      <td>0000247867823ef7</td>\n",
       "      <td>== From RfC == \\n\\n The title is fine as it is...</td>\n",
       "    </tr>\n",
       "    <tr>\n",
       "      <th>2</th>\n",
       "      <td>00013b17ad220c46</td>\n",
       "      <td>\" \\n\\n == Sources == \\n\\n * Zawe Ashton on Lap...</td>\n",
       "    </tr>\n",
       "    <tr>\n",
       "      <th>3</th>\n",
       "      <td>00017563c3f7919a</td>\n",
       "      <td>:If you have a look back at the source, the in...</td>\n",
       "    </tr>\n",
       "    <tr>\n",
       "      <th>4</th>\n",
       "      <td>00017695ad8997eb</td>\n",
       "      <td>I don't anonymously edit articles at all.</td>\n",
       "    </tr>\n",
       "  </tbody>\n",
       "</table>\n",
       "</div>"
      ],
      "text/plain": [
       "                 id                                       comment_text\n",
       "0  00001cee341fdb12  Yo bitch Ja Rule is more succesful then you'll...\n",
       "1  0000247867823ef7  == From RfC == \\n\\n The title is fine as it is...\n",
       "2  00013b17ad220c46  \" \\n\\n == Sources == \\n\\n * Zawe Ashton on Lap...\n",
       "3  00017563c3f7919a  :If you have a look back at the source, the in...\n",
       "4  00017695ad8997eb          I don't anonymously edit articles at all."
      ]
     },
     "execution_count": 12,
     "metadata": {},
     "output_type": "execute_result"
    }
   ],
   "source": [
    "test_csv.head()"
   ]
  },
  {
   "cell_type": "code",
   "execution_count": 13,
   "id": "85fab4e2",
   "metadata": {
    "execution": {
     "iopub.execute_input": "2023-07-02T19:35:09.772305Z",
     "iopub.status.busy": "2023-07-02T19:35:09.771607Z",
     "iopub.status.idle": "2023-07-02T19:35:09.777734Z",
     "shell.execute_reply": "2023-07-02T19:35:09.776793Z"
    },
    "papermill": {
     "duration": 0.018601,
     "end_time": "2023-07-02T19:35:09.779695",
     "exception": false,
     "start_time": "2023-07-02T19:35:09.761094",
     "status": "completed"
    },
    "tags": []
   },
   "outputs": [
    {
     "name": "stdout",
     "output_type": "stream",
     "text": [
      "Original :  == From RfC == \n",
      "\n",
      " The title is fine as it is, IMO.\n",
      "Processed : == From RfC == The title is fine as it is, IMO.\n"
     ]
    }
   ],
   "source": [
    "print('Original : ' ,test_csv['comment_text'][1])\n",
    "print('Processed :' , text_preprocessing(test_csv['comment_text'][1]))"
   ]
  },
  {
   "cell_type": "markdown",
   "id": "bc02eab9",
   "metadata": {
    "papermill": {
     "duration": 0.009661,
     "end_time": "2023-07-02T19:35:09.799022",
     "exception": false,
     "start_time": "2023-07-02T19:35:09.789361",
     "status": "completed"
    },
    "tags": []
   },
   "source": [
    "# Split Training Data Into Training & Validation Sets"
   ]
  },
  {
   "cell_type": "code",
   "execution_count": 14,
   "id": "2ff0327a",
   "metadata": {
    "execution": {
     "iopub.execute_input": "2023-07-02T19:35:09.819814Z",
     "iopub.status.busy": "2023-07-02T19:35:09.819191Z",
     "iopub.status.idle": "2023-07-02T19:35:09.837212Z",
     "shell.execute_reply": "2023-07-02T19:35:09.836412Z"
    },
    "papermill": {
     "duration": 0.030383,
     "end_time": "2023-07-02T19:35:09.839128",
     "exception": false,
     "start_time": "2023-07-02T19:35:09.808745",
     "status": "completed"
    },
    "tags": []
   },
   "outputs": [],
   "source": [
    "X = train_csv.comment_text.values\n",
    "Y = train_csv.toxic.values\n",
    "X_train, X_val, y_train, y_val =\\\n",
    "    train_test_split(X, Y, test_size=0.1, random_state=2021)"
   ]
  },
  {
   "cell_type": "code",
   "execution_count": 15,
   "id": "9945cda3",
   "metadata": {
    "execution": {
     "iopub.execute_input": "2023-07-02T19:35:09.859714Z",
     "iopub.status.busy": "2023-07-02T19:35:09.859452Z",
     "iopub.status.idle": "2023-07-02T19:35:09.994731Z",
     "shell.execute_reply": "2023-07-02T19:35:09.993450Z"
    },
    "papermill": {
     "duration": 0.147744,
     "end_time": "2023-07-02T19:35:09.996736",
     "exception": false,
     "start_time": "2023-07-02T19:35:09.848992",
     "status": "completed"
    },
    "tags": []
   },
   "outputs": [
    {
     "name": "stdout",
     "output_type": "stream",
     "text": [
      "There are 2 GPU(s) available.\n",
      "Device name: Tesla T4\n"
     ]
    }
   ],
   "source": [
    "import torch\n",
    "\n",
    "if torch.cuda.is_available():       \n",
    "    device = torch.device(\"cuda\")\n",
    "    print(f'There are {torch.cuda.device_count()} GPU(s) available.')\n",
    "    print('Device name:', torch.cuda.get_device_name(0))\n",
    "\n",
    "else:\n",
    "    print('No GPU available, using the CPU instead.')\n",
    "    device = torch.device(\"cpu\")"
   ]
  },
  {
   "cell_type": "code",
   "execution_count": 16,
   "id": "4d37ea58",
   "metadata": {
    "execution": {
     "iopub.execute_input": "2023-07-02T19:35:10.018357Z",
     "iopub.status.busy": "2023-07-02T19:35:10.017620Z",
     "iopub.status.idle": "2023-07-02T19:35:22.725160Z",
     "shell.execute_reply": "2023-07-02T19:35:22.723840Z"
    },
    "papermill": {
     "duration": 12.720899,
     "end_time": "2023-07-02T19:35:22.727699",
     "exception": false,
     "start_time": "2023-07-02T19:35:10.006800",
     "status": "completed"
    },
    "tags": []
   },
   "outputs": [
    {
     "name": "stdout",
     "output_type": "stream",
     "text": [
      "Requirement already satisfied: transformers in /opt/conda/lib/python3.10/site-packages (4.30.1)\r\n",
      "Requirement already satisfied: filelock in /opt/conda/lib/python3.10/site-packages (from transformers) (3.12.0)\r\n",
      "Requirement already satisfied: huggingface-hub<1.0,>=0.14.1 in /opt/conda/lib/python3.10/site-packages (from transformers) (0.15.1)\r\n",
      "Requirement already satisfied: numpy>=1.17 in /opt/conda/lib/python3.10/site-packages (from transformers) (1.23.5)\r\n",
      "Requirement already satisfied: packaging>=20.0 in /opt/conda/lib/python3.10/site-packages (from transformers) (21.3)\r\n",
      "Requirement already satisfied: pyyaml>=5.1 in /opt/conda/lib/python3.10/site-packages (from transformers) (5.4.1)\r\n",
      "Requirement already satisfied: regex!=2019.12.17 in /opt/conda/lib/python3.10/site-packages (from transformers) (2023.5.5)\r\n",
      "Requirement already satisfied: requests in /opt/conda/lib/python3.10/site-packages (from transformers) (2.28.2)\r\n",
      "Requirement already satisfied: tokenizers!=0.11.3,<0.14,>=0.11.1 in /opt/conda/lib/python3.10/site-packages (from transformers) (0.13.3)\r\n",
      "Requirement already satisfied: safetensors>=0.3.1 in /opt/conda/lib/python3.10/site-packages (from transformers) (0.3.1)\r\n",
      "Requirement already satisfied: tqdm>=4.27 in /opt/conda/lib/python3.10/site-packages (from transformers) (4.64.1)\r\n",
      "Requirement already satisfied: fsspec in /opt/conda/lib/python3.10/site-packages (from huggingface-hub<1.0,>=0.14.1->transformers) (2023.6.0)\r\n",
      "Requirement already satisfied: typing-extensions>=3.7.4.3 in /opt/conda/lib/python3.10/site-packages (from huggingface-hub<1.0,>=0.14.1->transformers) (4.5.0)\r\n",
      "Requirement already satisfied: pyparsing!=3.0.5,>=2.0.2 in /opt/conda/lib/python3.10/site-packages (from packaging>=20.0->transformers) (3.0.9)\r\n",
      "Requirement already satisfied: charset-normalizer<4,>=2 in /opt/conda/lib/python3.10/site-packages (from requests->transformers) (2.1.1)\r\n",
      "Requirement already satisfied: idna<4,>=2.5 in /opt/conda/lib/python3.10/site-packages (from requests->transformers) (3.4)\r\n",
      "Requirement already satisfied: urllib3<1.27,>=1.21.1 in /opt/conda/lib/python3.10/site-packages (from requests->transformers) (1.26.15)\r\n",
      "Requirement already satisfied: certifi>=2017.4.17 in /opt/conda/lib/python3.10/site-packages (from requests->transformers) (2023.5.7)\r\n",
      "\u001b[33mWARNING: Running pip as the 'root' user can result in broken permissions and conflicting behaviour with the system package manager. It is recommended to use a virtual environment instead: https://pip.pypa.io/warnings/venv\u001b[0m\u001b[33m\r\n",
      "\u001b[0m"
     ]
    }
   ],
   "source": [
    "!pip install transformers"
   ]
  },
  {
   "cell_type": "code",
   "execution_count": 17,
   "id": "997b645f",
   "metadata": {
    "execution": {
     "iopub.execute_input": "2023-07-02T19:35:22.750719Z",
     "iopub.status.busy": "2023-07-02T19:35:22.750347Z",
     "iopub.status.idle": "2023-07-02T19:35:25.313184Z",
     "shell.execute_reply": "2023-07-02T19:35:25.312359Z"
    },
    "papermill": {
     "duration": 2.576657,
     "end_time": "2023-07-02T19:35:25.315206",
     "exception": false,
     "start_time": "2023-07-02T19:35:22.738549",
     "status": "completed"
    },
    "tags": []
   },
   "outputs": [
    {
     "data": {
      "application/vnd.jupyter.widget-view+json": {
       "model_id": "317b59b47e2740cc8f03a1f67f8b5729",
       "version_major": 2,
       "version_minor": 0
      },
      "text/plain": [
       "Downloading (…)solve/main/vocab.txt:   0%|          | 0.00/232k [00:00<?, ?B/s]"
      ]
     },
     "metadata": {},
     "output_type": "display_data"
    },
    {
     "data": {
      "application/vnd.jupyter.widget-view+json": {
       "model_id": "b72b25e091b54ee888d361c3408b99d2",
       "version_major": 2,
       "version_minor": 0
      },
      "text/plain": [
       "Downloading (…)okenizer_config.json:   0%|          | 0.00/28.0 [00:00<?, ?B/s]"
      ]
     },
     "metadata": {},
     "output_type": "display_data"
    },
    {
     "data": {
      "application/vnd.jupyter.widget-view+json": {
       "model_id": "202a16bea6f94185aca627d51460059e",
       "version_major": 2,
       "version_minor": 0
      },
      "text/plain": [
       "Downloading (…)lve/main/config.json:   0%|          | 0.00/483 [00:00<?, ?B/s]"
      ]
     },
     "metadata": {},
     "output_type": "display_data"
    }
   ],
   "source": [
    "from transformers import DistilBertTokenizer\n",
    "tokenizer = DistilBertTokenizer.from_pretrained('distilbert-base-uncased', do_lower_case=True)\n",
    "def preprocessing_for_bert(data):\n",
    "    input_ids = []\n",
    "    attention_masks = []\n",
    "\n",
    "    # For every sentence...\n",
    "    for sent in data:\n",
    "        encoded_sent = tokenizer.encode_plus(\n",
    "            text=text_preprocessing(sent),  # Preprocess sentence\n",
    "            add_special_tokens=True,        # Add `[CLS]` and `[SEP]`\n",
    "            max_length=MAX_LEN,                  # Max length to truncate/pad\n",
    "            pad_to_max_length=True,         # Pad sentence to max length\n",
    "            #return_tensors='pt',           # Return PyTorch tensor\n",
    "            truncation = True,\n",
    "            return_attention_mask=True      # Return attention mask\n",
    "            )\n",
    "        input_ids.append(encoded_sent.get('input_ids'))\n",
    "        attention_masks.append(encoded_sent.get('attention_mask'))\n",
    "\n",
    "    # Convert lists to tensors\n",
    "    input_ids = torch.tensor(input_ids)\n",
    "    attention_masks = torch.tensor(attention_masks)\n",
    "\n",
    "    return input_ids, attention_masks"
   ]
  },
  {
   "cell_type": "code",
   "execution_count": 18,
   "id": "f3960c26",
   "metadata": {
    "execution": {
     "iopub.execute_input": "2023-07-02T19:35:25.339274Z",
     "iopub.status.busy": "2023-07-02T19:35:25.338800Z",
     "iopub.status.idle": "2023-07-02T19:43:15.416835Z",
     "shell.execute_reply": "2023-07-02T19:43:15.414866Z"
    },
    "papermill": {
     "duration": 470.09347,
     "end_time": "2023-07-02T19:43:15.419752",
     "exception": false,
     "start_time": "2023-07-02T19:35:25.326282",
     "status": "completed"
    },
    "tags": []
   },
   "outputs": [
    {
     "name": "stderr",
     "output_type": "stream",
     "text": [
      "/opt/conda/lib/python3.10/site-packages/transformers/tokenization_utils_base.py:2377: FutureWarning: The `pad_to_max_length` argument is deprecated and will be removed in a future version, use `padding=True` or `padding='longest'` to pad to the longest sequence in the batch, or use `padding='max_length'` to pad to a max length. In this case, you can give a specific length with `max_length` (e.g. `max_length=45`) or leave max_length to None to pad to the maximal input size of the model (e.g. 512 for Bert).\n",
      "  warnings.warn(\n"
     ]
    },
    {
     "name": "stdout",
     "output_type": "stream",
     "text": [
      "Original:  Explanation\n",
      "Why the edits made under my username Hardcore Metallica Fan were reverted? They weren't vandalisms, just closure on some GAs after I voted at New York Dolls FAC. And please don't remove the template from the talk page since I'm retired now.89.205.38.27\n",
      "Token IDs:  [101, 7526, 2339, 1996, 10086, 2015, 2081, 2104, 2026, 5310, 18442, 13076, 12392, 2050, 5470, 2020, 16407, 1029, 2027, 4694, 1005, 1056, 3158, 9305, 22556, 1010, 2074, 8503, 2006, 2070, 3806, 2044, 1045, 5444, 2012, 2047, 2259, 14421, 6904, 2278, 1012, 1998, 3531, 2123, 1005, 1056, 6366, 1996, 23561, 2013, 1996, 2831, 3931, 2144, 1045, 1005, 1049, 3394, 2085, 1012, 1012, 1012, 1012, 102, 0, 0, 0, 0, 0, 0, 0, 0, 0, 0, 0, 0, 0, 0, 0, 0, 0, 0, 0, 0, 0, 0, 0, 0, 0, 0, 0, 0, 0, 0, 0, 0, 0, 0, 0, 0, 0, 0, 0, 0, 0, 0, 0, 0, 0, 0, 0, 0, 0, 0, 0, 0, 0, 0, 0, 0, 0, 0, 0, 0, 0, 0, 0, 0, 0, 0, 0, 0, 0, 0, 0, 0, 0, 0, 0, 0, 0, 0, 0, 0, 0, 0, 0, 0, 0, 0, 0, 0, 0, 0, 0, 0, 0, 0, 0, 0, 0, 0, 0, 0, 0, 0, 0, 0, 0, 0, 0, 0, 0, 0, 0, 0, 0, 0, 0, 0, 0, 0, 0, 0, 0, 0, 0, 0, 0, 0, 0, 0, 0, 0, 0, 0, 0, 0, 0, 0, 0, 0, 0, 0, 0, 0, 0, 0, 0, 0, 0, 0, 0, 0, 0, 0, 0, 0, 0, 0, 0, 0, 0, 0, 0, 0, 0, 0, 0, 0, 0, 0, 0, 0, 0, 0, 0, 0, 0, 0, 0, 0, 0, 0, 0, 0, 0, 0, 0, 0, 0, 0, 0, 0, 0, 0, 0, 0, 0, 0, 0, 0, 0, 0, 0, 0, 0, 0, 0, 0, 0, 0, 0, 0, 0, 0, 0, 0, 0, 0, 0, 0, 0, 0, 0, 0, 0, 0, 0, 0, 0, 0, 0, 0, 0, 0, 0, 0, 0, 0]\n",
      "Tokenizing data...\n"
     ]
    }
   ],
   "source": [
    "MAX_LEN = 300\n",
    "\n",
    "token_ids = list(preprocessing_for_bert([X[0]])[0].squeeze().numpy())\n",
    "print('Original: ', X[0])\n",
    "print('Token IDs: ', token_ids)\n",
    "\n",
    "# Run function `preprocessing_for_bert` on the train set and the validation set\n",
    "print('Tokenizing data...')\n",
    "train_inputs, train_masks = preprocessing_for_bert(X_train)\n",
    "val_inputs, val_masks = preprocessing_for_bert(X_val)"
   ]
  },
  {
   "cell_type": "code",
   "execution_count": 19,
   "id": "e00f71fe",
   "metadata": {
    "execution": {
     "iopub.execute_input": "2023-07-02T19:43:15.443862Z",
     "iopub.status.busy": "2023-07-02T19:43:15.443562Z",
     "iopub.status.idle": "2023-07-02T19:43:15.474654Z",
     "shell.execute_reply": "2023-07-02T19:43:15.473794Z"
    },
    "papermill": {
     "duration": 0.045237,
     "end_time": "2023-07-02T19:43:15.476749",
     "exception": false,
     "start_time": "2023-07-02T19:43:15.431512",
     "status": "completed"
    },
    "tags": []
   },
   "outputs": [],
   "source": [
    "from torch.utils.data import TensorDataset, DataLoader, RandomSampler, SequentialSampler\n",
    "\n",
    "# Convert other data types to torch.Tensor\n",
    "train_labels = torch.tensor(y_train)\n",
    "val_labels = torch.tensor(y_val)\n",
    "\n",
    "# For fine-tuning BERT, the authors recommend a batch size of 16 or 32.\n",
    "batch_size = 32\n",
    "\n",
    "# Create the DataLoader for our training set\n",
    "train_data = TensorDataset(train_inputs, train_masks, train_labels)\n",
    "train_sampler = RandomSampler(train_data)\n",
    "train_dataloader = DataLoader(train_data, sampler=train_sampler, batch_size=batch_size)\n",
    "\n",
    "# Create the DataLoader for our validation set\n",
    "val_data = TensorDataset(val_inputs, val_masks, val_labels)\n",
    "val_sampler = SequentialSampler(val_data)\n",
    "val_dataloader = DataLoader(val_data, sampler=val_sampler, batch_size=batch_size)"
   ]
  },
  {
   "cell_type": "code",
   "execution_count": 20,
   "id": "a8ca20f1",
   "metadata": {
    "execution": {
     "iopub.execute_input": "2023-07-02T19:43:15.501317Z",
     "iopub.status.busy": "2023-07-02T19:43:15.501042Z",
     "iopub.status.idle": "2023-07-02T19:43:24.184289Z",
     "shell.execute_reply": "2023-07-02T19:43:24.183405Z"
    },
    "papermill": {
     "duration": 8.698085,
     "end_time": "2023-07-02T19:43:24.186637",
     "exception": false,
     "start_time": "2023-07-02T19:43:15.488552",
     "status": "completed"
    },
    "tags": []
   },
   "outputs": [
    {
     "name": "stdout",
     "output_type": "stream",
     "text": [
      "CPU times: user 3 µs, sys: 0 ns, total: 3 µs\n",
      "Wall time: 6.44 µs\n"
     ]
    },
    {
     "name": "stderr",
     "output_type": "stream",
     "text": [
      "/opt/conda/lib/python3.10/site-packages/tensorflow_io/python/ops/__init__.py:98: UserWarning: unable to load libtensorflow_io_plugins.so: unable to open file: libtensorflow_io_plugins.so, from paths: ['/opt/conda/lib/python3.10/site-packages/tensorflow_io/python/ops/libtensorflow_io_plugins.so']\n",
      "caused by: ['/opt/conda/lib/python3.10/site-packages/tensorflow_io/python/ops/libtensorflow_io_plugins.so: undefined symbol: _ZN3tsl6StatusC1EN10tensorflow5error4CodeESt17basic_string_viewIcSt11char_traitsIcEENS_14SourceLocationE']\n",
      "  warnings.warn(f\"unable to load libtensorflow_io_plugins.so: {e}\")\n",
      "/opt/conda/lib/python3.10/site-packages/tensorflow_io/python/ops/__init__.py:104: UserWarning: file system plugins are not loaded: unable to open file: libtensorflow_io.so, from paths: ['/opt/conda/lib/python3.10/site-packages/tensorflow_io/python/ops/libtensorflow_io.so']\n",
      "caused by: ['/opt/conda/lib/python3.10/site-packages/tensorflow_io/python/ops/libtensorflow_io.so: undefined symbol: _ZTVN10tensorflow13GcsFileSystemE']\n",
      "  warnings.warn(f\"file system plugins are not loaded: {e}\")\n"
     ]
    }
   ],
   "source": [
    "%time\n",
    "import torch\n",
    "import torch.nn as nn\n",
    "from transformers import DistilBertModel\n",
    "\n",
    "# Create the BertClassfier class\n",
    "class DistilBertClassifier(nn.Module):\n",
    "    def __init__(self, freeze_bert=False):\n",
    "        super(DistilBertClassifier, self).__init__()\n",
    "        # Specify hidden size of BERT, hidden size of our classifier, and number of labels\n",
    "        D_in, H, D_out = 768, 50, 2\n",
    "\n",
    "        # Instantiate BERT model\n",
    "        self.bert = DistilBertModel.from_pretrained('distilbert-base-uncased')\n",
    "        # self.LSTM = nn.LSTM(D_in,D_in,bidirectional=True)\n",
    "        # self.clf = nn.Linear(D_in*2,2)\n",
    "\n",
    "        # Instantiate an one-layer feed-forward classifier\n",
    "        self.classifier = nn.Sequential(\n",
    "            # nn.LSTM(D_in,D_in)\n",
    "            nn.Linear(D_in, H),\n",
    "            nn.ReLU(),\n",
    "            nn.Linear(H, D_out)\n",
    "        )\n",
    "\n",
    "        # Freeze the BERT model\n",
    "        if freeze_bert:\n",
    "            for param in self.bert.parameters():\n",
    "                param.requires_grad = False\n",
    "        \n",
    "    def forward(self, input_ids, attention_mask):\n",
    "        # Feed input to BERT\n",
    "        outputs = self.bert(input_ids=input_ids,\n",
    "                            attention_mask=attention_mask)\n",
    "        # Extract the last hidden state of the token `[CLS]` for classification task\n",
    "        last_hidden_state_cls = outputs[0][:, 0, :]\n",
    "        # Feed input to classifier to compute logits\n",
    "        logits = self.classifier(last_hidden_state_cls)\n",
    "\n",
    "        return logits"
   ]
  },
  {
   "cell_type": "code",
   "execution_count": 21,
   "id": "5eab261c",
   "metadata": {
    "execution": {
     "iopub.execute_input": "2023-07-02T19:43:24.210541Z",
     "iopub.status.busy": "2023-07-02T19:43:24.210233Z",
     "iopub.status.idle": "2023-07-02T19:43:24.221900Z",
     "shell.execute_reply": "2023-07-02T19:43:24.221111Z"
    },
    "papermill": {
     "duration": 0.025851,
     "end_time": "2023-07-02T19:43:24.223993",
     "exception": false,
     "start_time": "2023-07-02T19:43:24.198142",
     "status": "completed"
    },
    "tags": []
   },
   "outputs": [],
   "source": [
    "from transformers import AdamW, get_linear_schedule_with_warmup\n",
    "\n",
    "def initialize_model(epochs=4):\n",
    "    \"\"\"Initialize the Bert Classifier, the optimizer and the learning rate scheduler.\n",
    "    \"\"\"\n",
    "    # Instantiate Bert Classifier\n",
    "    distilbert_classifier = DistilBertClassifier(freeze_bert=False)\n",
    "\n",
    "    # Tell PyTorch to run the model on GPU\n",
    "    distilbert_classifier.to(device)\n",
    "\n",
    "    # Create the optimizer\n",
    "    optimizer = AdamW(distilbert_classifier.parameters(),\n",
    "                      lr=5e-5,    # Default learning rate\n",
    "                      eps=1e-8    # Default epsilon value\n",
    "                      )\n",
    "\n",
    "    # Total number of training steps\n",
    "    total_steps = len(train_dataloader) * epochs\n",
    "\n",
    "    # Set up the learning rate scheduler\n",
    "    scheduler = get_linear_schedule_with_warmup(optimizer,\n",
    "                                                num_warmup_steps=0, # Default value\n",
    "                                                num_training_steps=total_steps)\n",
    "    return distilbert_classifier, optimizer, scheduler"
   ]
  },
  {
   "cell_type": "code",
   "execution_count": 22,
   "id": "8a86d8ef",
   "metadata": {
    "execution": {
     "iopub.execute_input": "2023-07-02T19:43:24.247745Z",
     "iopub.status.busy": "2023-07-02T19:43:24.247487Z",
     "iopub.status.idle": "2023-07-02T19:43:24.263651Z",
     "shell.execute_reply": "2023-07-02T19:43:24.262805Z"
    },
    "papermill": {
     "duration": 0.030309,
     "end_time": "2023-07-02T19:43:24.265639",
     "exception": false,
     "start_time": "2023-07-02T19:43:24.235330",
     "status": "completed"
    },
    "tags": []
   },
   "outputs": [],
   "source": [
    "import random\n",
    "import time\n",
    "\n",
    "# Specify loss function\n",
    "loss_fn = nn.CrossEntropyLoss()\n",
    "\n",
    "def set_seed(seed_value=42):\n",
    "    \"\"\"Set seed for reproducibility.\n",
    "    \"\"\"\n",
    "    random.seed(seed_value)\n",
    "    np.random.seed(seed_value)\n",
    "    torch.manual_seed(seed_value)\n",
    "    torch.cuda.manual_seed_all(seed_value)\n",
    "\n",
    "def train(model, train_dataloader, val_dataloader=None, epochs=4, evaluation=False):\n",
    "    \"\"\"Train the BertClassifier model.\n",
    "    \"\"\"\n",
    "    # Start training loop\n",
    "    print(\"Start training...\\n\")\n",
    "    for epoch_i in range(epochs):\n",
    "        # =======================================\n",
    "        #               Training\n",
    "        # =======================================\n",
    "        # Print the header of the result table\n",
    "        print(f\"{'Epoch':^7} | {'Batch':^7} | {'Train Loss':^12} | {'Val Loss':^10} | {'Val Acc':^9} | {'Elapsed':^9}\")\n",
    "        print(\"-\"*70)\n",
    "\n",
    "        # Measure the elapsed time of each epoch\n",
    "        t0_epoch, t0_batch = time.time(), time.time()\n",
    "\n",
    "        # Reset tracking variables at the beginning of each epoch\n",
    "        total_loss, batch_loss, batch_counts = 0, 0, 0\n",
    "\n",
    "        # Put the model into the training mode\n",
    "        model.train()\n",
    "\n",
    "        # For each batch of training data...\n",
    "        for step, batch in enumerate(train_dataloader):\n",
    "            batch_counts +=1\n",
    "            # Load batch to GPU\n",
    "            b_input_ids, b_attn_mask, b_labels = tuple(t.to(device) for t in batch)\n",
    "\n",
    "            # Zero out any previously calculated gradients\n",
    "            model.zero_grad()\n",
    "\n",
    "            # Perform a forward pass. This will return logits.\n",
    "            logits = model(b_input_ids, b_attn_mask)\n",
    "\n",
    "            # Compute loss and accumulate the loss values\n",
    "            loss = loss_fn(logits, b_labels)\n",
    "            batch_loss += loss.item()\n",
    "            total_loss += loss.item()\n",
    "\n",
    "            # Perform a backward pass to calculate gradients\n",
    "            loss.backward()\n",
    "\n",
    "            # Clip the norm of the gradients to 1.0 to prevent \"exploding gradients\"\n",
    "            torch.nn.utils.clip_grad_norm_(model.parameters(), 1.0)\n",
    "\n",
    "            # Update parameters and the learning rate\n",
    "            optimizer.step()\n",
    "            scheduler.step()\n",
    "\n",
    "            # Print the loss values and time elapsed for every 20 batches\n",
    "            if (step % 20 == 0 and step != 0) or (step == len(train_dataloader) - 1):\n",
    "                # Calculate time elapsed for 20 batches\n",
    "                time_elapsed = time.time() - t0_batch\n",
    "\n",
    "                # Print training results\n",
    "                print(f\"{epoch_i + 1:^7} | {step:^7} | {batch_loss / batch_counts:^12.6f} | {'-':^10} | {'-':^9} | {time_elapsed:^9.2f}\")\n",
    "\n",
    "                # Reset batch tracking variables\n",
    "                batch_loss, batch_counts = 0, 0\n",
    "                t0_batch = time.time()\n",
    "\n",
    "        # Calculate the average loss over the entire training data\n",
    "        avg_train_loss = total_loss / len(train_dataloader)\n",
    "\n",
    "        print(\"-\"*70)\n",
    "        # =======================================\n",
    "        #               Evaluation\n",
    "        # =======================================\n",
    "        if evaluation == True:\n",
    "            # After the completion of each training epoch, measure the model's performance\n",
    "            # on our validation set.\n",
    "            val_loss, val_accuracy = evaluate(model, val_dataloader)\n",
    "\n",
    "            # Print performance over the entire training data\n",
    "            time_elapsed = time.time() - t0_epoch\n",
    "            \n",
    "            print(f\"{epoch_i + 1:^7} | {'-':^7} | {avg_train_loss:^12.6f} | {val_loss:^10.6f} | {val_accuracy:^9.2f} | {time_elapsed:^9.2f}\")\n",
    "            print(\"-\"*70)\n",
    "        print(\"\\n\")\n",
    "    \n",
    "    print(\"Training complete!\")\n",
    "\n",
    "\n"
   ]
  },
  {
   "cell_type": "code",
   "execution_count": 23,
   "id": "9dfe8cb4",
   "metadata": {
    "execution": {
     "iopub.execute_input": "2023-07-02T19:43:24.288935Z",
     "iopub.status.busy": "2023-07-02T19:43:24.288677Z",
     "iopub.status.idle": "2023-07-02T19:43:24.295868Z",
     "shell.execute_reply": "2023-07-02T19:43:24.295050Z"
    },
    "papermill": {
     "duration": 0.021053,
     "end_time": "2023-07-02T19:43:24.297811",
     "exception": false,
     "start_time": "2023-07-02T19:43:24.276758",
     "status": "completed"
    },
    "tags": []
   },
   "outputs": [],
   "source": [
    "def evaluate(model, val_dataloader):\n",
    "    \"\"\"After the completion of each training epoch, measure the model's performance\n",
    "    on our validation set.\n",
    "    \"\"\"\n",
    "    # Put the model into the evaluation mode. The dropout layers are disabled during\n",
    "    # the test time.\n",
    "    model.eval()\n",
    "\n",
    "    # Tracking variables\n",
    "    val_accuracy = []\n",
    "    val_loss = []\n",
    "\n",
    "    # For each batch in our validation set...\n",
    "    for batch in val_dataloader:\n",
    "        # Load batch to GPU\n",
    "        b_input_ids, b_attn_mask, b_labels = tuple(t.to(device) for t in batch)\n",
    "\n",
    "        # Compute logits\n",
    "        with torch.no_grad():\n",
    "            logits = model(b_input_ids, b_attn_mask)\n",
    "\n",
    "        # Compute loss\n",
    "        loss = loss_fn(logits, b_labels)\n",
    "        val_loss.append(loss.item())\n",
    "\n",
    "        # Get the predictions\n",
    "        preds = torch.argmax(logits, dim=1).flatten()\n",
    "\n",
    "        # Calculate the accuracy rate\n",
    "        accuracy = (preds == b_labels).cpu().numpy().mean() * 100\n",
    "        val_accuracy.append(accuracy)\n",
    "\n",
    "    # Compute the average accuracy and loss over the validation set.\n",
    "    val_loss = np.mean(val_loss)\n",
    "    val_accuracy = np.mean(val_accuracy)\n",
    "\n",
    "    return val_loss, val_accuracy"
   ]
  },
  {
   "cell_type": "code",
   "execution_count": 24,
   "id": "5e8279c3",
   "metadata": {
    "execution": {
     "iopub.execute_input": "2023-07-02T19:43:24.320918Z",
     "iopub.status.busy": "2023-07-02T19:43:24.320665Z",
     "iopub.status.idle": "2023-07-02T20:46:13.649300Z",
     "shell.execute_reply": "2023-07-02T20:46:13.648306Z"
    },
    "papermill": {
     "duration": 3769.370888,
     "end_time": "2023-07-02T20:46:13.679781",
     "exception": false,
     "start_time": "2023-07-02T19:43:24.308893",
     "status": "completed"
    },
    "tags": []
   },
   "outputs": [
    {
     "data": {
      "application/vnd.jupyter.widget-view+json": {
       "model_id": "2501a8a76fd8432896726c9deda2dfd5",
       "version_major": 2,
       "version_minor": 0
      },
      "text/plain": [
       "Downloading model.safetensors:   0%|          | 0.00/268M [00:00<?, ?B/s]"
      ]
     },
     "metadata": {},
     "output_type": "display_data"
    },
    {
     "name": "stderr",
     "output_type": "stream",
     "text": [
      "Some weights of the model checkpoint at distilbert-base-uncased were not used when initializing DistilBertModel: ['vocab_transform.weight', 'vocab_layer_norm.bias', 'vocab_transform.bias', 'vocab_projector.bias', 'vocab_layer_norm.weight']\n",
      "- This IS expected if you are initializing DistilBertModel from the checkpoint of a model trained on another task or with another architecture (e.g. initializing a BertForSequenceClassification model from a BertForPreTraining model).\n",
      "- This IS NOT expected if you are initializing DistilBertModel from the checkpoint of a model that you expect to be exactly identical (initializing a BertForSequenceClassification model from a BertForSequenceClassification model).\n",
      "/opt/conda/lib/python3.10/site-packages/transformers/optimization.py:411: FutureWarning: This implementation of AdamW is deprecated and will be removed in a future version. Use the PyTorch implementation torch.optim.AdamW instead, or set `no_deprecation_warning=True` to disable this warning\n",
      "  warnings.warn(\n"
     ]
    },
    {
     "name": "stdout",
     "output_type": "stream",
     "text": [
      "Start training...\n",
      "\n",
      " Epoch  |  Batch  |  Train Loss  |  Val Loss  |  Val Acc  |  Elapsed \n",
      "----------------------------------------------------------------------\n",
      "   1    |   20    |   0.322855   |     -      |     -     |   17.47  \n",
      "   1    |   40    |   0.186683   |     -      |     -     |   14.34  \n",
      "   1    |   60    |   0.098197   |     -      |     -     |   14.55  \n",
      "   1    |   80    |   0.141652   |     -      |     -     |   14.76  \n",
      "   1    |   100   |   0.100413   |     -      |     -     |   14.97  \n",
      "   1    |   120   |   0.143736   |     -      |     -     |   15.18  \n",
      "   1    |   140   |   0.171660   |     -      |     -     |   15.45  \n",
      "   1    |   160   |   0.129271   |     -      |     -     |   15.67  \n",
      "   1    |   180   |   0.106647   |     -      |     -     |   15.91  \n",
      "   1    |   200   |   0.154308   |     -      |     -     |   16.13  \n",
      "   1    |   220   |   0.126249   |     -      |     -     |   16.23  \n",
      "   1    |   240   |   0.162141   |     -      |     -     |   16.21  \n",
      "   1    |   260   |   0.126637   |     -      |     -     |   16.07  \n",
      "   1    |   280   |   0.115488   |     -      |     -     |   16.02  \n",
      "   1    |   300   |   0.092782   |     -      |     -     |   16.08  \n",
      "   1    |   320   |   0.160731   |     -      |     -     |   16.17  \n",
      "   1    |   340   |   0.068701   |     -      |     -     |   16.17  \n",
      "   1    |   360   |   0.127468   |     -      |     -     |   16.15  \n",
      "   1    |   380   |   0.124972   |     -      |     -     |   16.15  \n",
      "   1    |   400   |   0.109653   |     -      |     -     |   16.15  \n",
      "   1    |   420   |   0.098721   |     -      |     -     |   16.12  \n",
      "   1    |   440   |   0.120306   |     -      |     -     |   16.14  \n",
      "   1    |   460   |   0.162395   |     -      |     -     |   16.10  \n",
      "   1    |   480   |   0.108560   |     -      |     -     |   16.10  \n",
      "   1    |   500   |   0.142914   |     -      |     -     |   16.11  \n",
      "   1    |   520   |   0.074029   |     -      |     -     |   16.09  \n",
      "   1    |   540   |   0.109220   |     -      |     -     |   16.12  \n",
      "   1    |   560   |   0.125313   |     -      |     -     |   16.08  \n",
      "   1    |   580   |   0.125265   |     -      |     -     |   16.08  \n",
      "   1    |   600   |   0.103499   |     -      |     -     |   16.12  \n",
      "   1    |   620   |   0.113171   |     -      |     -     |   16.08  \n",
      "   1    |   640   |   0.082236   |     -      |     -     |   16.09  \n",
      "   1    |   660   |   0.089551   |     -      |     -     |   16.11  \n",
      "   1    |   680   |   0.109404   |     -      |     -     |   16.14  \n",
      "   1    |   700   |   0.121507   |     -      |     -     |   16.11  \n",
      "   1    |   720   |   0.093686   |     -      |     -     |   16.11  \n",
      "   1    |   740   |   0.089079   |     -      |     -     |   16.11  \n",
      "   1    |   760   |   0.091497   |     -      |     -     |   16.11  \n",
      "   1    |   780   |   0.115506   |     -      |     -     |   16.13  \n",
      "   1    |   800   |   0.081709   |     -      |     -     |   16.14  \n",
      "   1    |   820   |   0.141743   |     -      |     -     |   16.14  \n",
      "   1    |   840   |   0.095205   |     -      |     -     |   16.15  \n",
      "   1    |   860   |   0.118555   |     -      |     -     |   16.18  \n",
      "   1    |   880   |   0.138501   |     -      |     -     |   16.17  \n",
      "   1    |   900   |   0.104069   |     -      |     -     |   16.14  \n",
      "   1    |   920   |   0.093446   |     -      |     -     |   16.14  \n",
      "   1    |   940   |   0.087835   |     -      |     -     |   16.12  \n",
      "   1    |   960   |   0.079136   |     -      |     -     |   16.15  \n",
      "   1    |   980   |   0.098806   |     -      |     -     |   16.17  \n",
      "   1    |  1000   |   0.101929   |     -      |     -     |   16.15  \n",
      "   1    |  1020   |   0.091267   |     -      |     -     |   16.15  \n",
      "   1    |  1040   |   0.094059   |     -      |     -     |   16.11  \n",
      "   1    |  1060   |   0.095998   |     -      |     -     |   16.15  \n",
      "   1    |  1080   |   0.099337   |     -      |     -     |   16.16  \n",
      "   1    |  1100   |   0.096522   |     -      |     -     |   16.15  \n",
      "   1    |  1120   |   0.091083   |     -      |     -     |   16.15  \n",
      "   1    |  1140   |   0.109965   |     -      |     -     |   16.16  \n",
      "   1    |  1160   |   0.082322   |     -      |     -     |   16.13  \n",
      "   1    |  1180   |   0.070172   |     -      |     -     |   16.18  \n",
      "   1    |  1200   |   0.142998   |     -      |     -     |   16.11  \n",
      "   1    |  1220   |   0.112800   |     -      |     -     |   16.12  \n",
      "   1    |  1240   |   0.098954   |     -      |     -     |   16.13  \n",
      "   1    |  1260   |   0.104198   |     -      |     -     |   16.16  \n",
      "   1    |  1280   |   0.095512   |     -      |     -     |   16.14  \n",
      "   1    |  1300   |   0.092731   |     -      |     -     |   16.13  \n",
      "   1    |  1320   |   0.079673   |     -      |     -     |   16.13  \n",
      "   1    |  1340   |   0.097525   |     -      |     -     |   16.12  \n",
      "   1    |  1360   |   0.110957   |     -      |     -     |   16.17  \n",
      "   1    |  1380   |   0.090458   |     -      |     -     |   16.13  \n",
      "   1    |  1400   |   0.082002   |     -      |     -     |   16.14  \n",
      "   1    |  1420   |   0.101854   |     -      |     -     |   16.17  \n",
      "   1    |  1440   |   0.096325   |     -      |     -     |   16.13  \n",
      "   1    |  1460   |   0.064011   |     -      |     -     |   16.14  \n",
      "   1    |  1480   |   0.067237   |     -      |     -     |   16.14  \n",
      "   1    |  1500   |   0.105896   |     -      |     -     |   16.16  \n",
      "   1    |  1520   |   0.102509   |     -      |     -     |   16.17  \n",
      "   1    |  1540   |   0.090692   |     -      |     -     |   16.14  \n",
      "   1    |  1560   |   0.099800   |     -      |     -     |   16.13  \n",
      "   1    |  1580   |   0.093105   |     -      |     -     |   16.16  \n",
      "   1    |  1600   |   0.119396   |     -      |     -     |   16.14  \n",
      "   1    |  1620   |   0.085965   |     -      |     -     |   16.13  \n",
      "   1    |  1640   |   0.098127   |     -      |     -     |   16.10  \n",
      "   1    |  1660   |   0.090290   |     -      |     -     |   16.11  \n",
      "   1    |  1680   |   0.056871   |     -      |     -     |   16.09  \n",
      "   1    |  1700   |   0.087634   |     -      |     -     |   16.09  \n",
      "   1    |  1720   |   0.090703   |     -      |     -     |   16.08  \n",
      "   1    |  1740   |   0.052306   |     -      |     -     |   16.06  \n",
      "   1    |  1760   |   0.085990   |     -      |     -     |   16.08  \n",
      "   1    |  1780   |   0.074619   |     -      |     -     |   16.07  \n",
      "   1    |  1800   |   0.105636   |     -      |     -     |   16.09  \n",
      "   1    |  1820   |   0.074409   |     -      |     -     |   16.06  \n",
      "   1    |  1840   |   0.079115   |     -      |     -     |   16.11  \n",
      "   1    |  1860   |   0.065608   |     -      |     -     |   16.10  \n",
      "   1    |  1880   |   0.108412   |     -      |     -     |   16.11  \n",
      "   1    |  1900   |   0.106447   |     -      |     -     |   16.11  \n",
      "   1    |  1920   |   0.110563   |     -      |     -     |   16.13  \n",
      "   1    |  1940   |   0.066973   |     -      |     -     |   16.14  \n",
      "   1    |  1960   |   0.110727   |     -      |     -     |   16.11  \n",
      "   1    |  1980   |   0.072911   |     -      |     -     |   16.12  \n",
      "   1    |  2000   |   0.070258   |     -      |     -     |   16.13  \n",
      "   1    |  2020   |   0.075018   |     -      |     -     |   16.13  \n",
      "   1    |  2040   |   0.095502   |     -      |     -     |   16.11  \n",
      "   1    |  2060   |   0.056637   |     -      |     -     |   16.10  \n",
      "   1    |  2080   |   0.104274   |     -      |     -     |   16.11  \n",
      "   1    |  2100   |   0.077401   |     -      |     -     |   16.12  \n",
      "   1    |  2120   |   0.084788   |     -      |     -     |   16.13  \n",
      "   1    |  2140   |   0.056243   |     -      |     -     |   16.17  \n",
      "   1    |  2160   |   0.106461   |     -      |     -     |   16.14  \n",
      "   1    |  2180   |   0.068668   |     -      |     -     |   16.11  \n",
      "   1    |  2200   |   0.090231   |     -      |     -     |   16.13  \n",
      "   1    |  2220   |   0.076646   |     -      |     -     |   16.12  \n",
      "   1    |  2240   |   0.095411   |     -      |     -     |   16.17  \n",
      "   1    |  2260   |   0.079427   |     -      |     -     |   16.13  \n",
      "   1    |  2280   |   0.083226   |     -      |     -     |   16.12  \n",
      "   1    |  2300   |   0.086729   |     -      |     -     |   16.12  \n",
      "   1    |  2320   |   0.084044   |     -      |     -     |   16.14  \n",
      "   1    |  2340   |   0.103249   |     -      |     -     |   16.14  \n",
      "   1    |  2360   |   0.086033   |     -      |     -     |   16.12  \n",
      "   1    |  2380   |   0.108592   |     -      |     -     |   16.16  \n",
      "   1    |  2400   |   0.113302   |     -      |     -     |   16.14  \n",
      "   1    |  2420   |   0.083900   |     -      |     -     |   16.13  \n",
      "   1    |  2440   |   0.058318   |     -      |     -     |   16.14  \n",
      "   1    |  2460   |   0.116877   |     -      |     -     |   16.13  \n",
      "   1    |  2480   |   0.072326   |     -      |     -     |   16.15  \n",
      "   1    |  2500   |   0.096102   |     -      |     -     |   16.12  \n",
      "   1    |  2520   |   0.092794   |     -      |     -     |   16.16  \n",
      "   1    |  2540   |   0.072761   |     -      |     -     |   16.13  \n",
      "   1    |  2560   |   0.093208   |     -      |     -     |   16.16  \n",
      "   1    |  2580   |   0.073602   |     -      |     -     |   16.12  \n",
      "   1    |  2600   |   0.095115   |     -      |     -     |   16.15  \n",
      "   1    |  2620   |   0.105797   |     -      |     -     |   16.18  \n",
      "   1    |  2640   |   0.077231   |     -      |     -     |   16.16  \n",
      "   1    |  2660   |   0.058384   |     -      |     -     |   16.16  \n",
      "   1    |  2680   |   0.087733   |     -      |     -     |   16.14  \n",
      "   1    |  2700   |   0.074339   |     -      |     -     |   16.13  \n",
      "   1    |  2720   |   0.082351   |     -      |     -     |   16.15  \n",
      "   1    |  2740   |   0.103848   |     -      |     -     |   16.13  \n",
      "   1    |  2760   |   0.075225   |     -      |     -     |   16.13  \n",
      "   1    |  2780   |   0.109470   |     -      |     -     |   16.12  \n",
      "   1    |  2800   |   0.078726   |     -      |     -     |   16.16  \n",
      "   1    |  2820   |   0.104243   |     -      |     -     |   16.13  \n",
      "   1    |  2840   |   0.094675   |     -      |     -     |   16.17  \n",
      "   1    |  2860   |   0.086520   |     -      |     -     |   16.16  \n",
      "   1    |  2880   |   0.101195   |     -      |     -     |   16.14  \n",
      "   1    |  2900   |   0.086637   |     -      |     -     |   16.14  \n",
      "   1    |  2920   |   0.103052   |     -      |     -     |   16.16  \n",
      "   1    |  2940   |   0.069732   |     -      |     -     |   16.14  \n",
      "   1    |  2960   |   0.070065   |     -      |     -     |   16.15  \n",
      "   1    |  2980   |   0.100091   |     -      |     -     |   16.13  \n",
      "   1    |  3000   |   0.082955   |     -      |     -     |   16.15  \n",
      "   1    |  3020   |   0.094354   |     -      |     -     |   16.17  \n",
      "   1    |  3040   |   0.090597   |     -      |     -     |   16.13  \n",
      "   1    |  3060   |   0.076508   |     -      |     -     |   16.12  \n",
      "   1    |  3080   |   0.087007   |     -      |     -     |   16.16  \n",
      "   1    |  3100   |   0.080066   |     -      |     -     |   16.16  \n",
      "   1    |  3120   |   0.082081   |     -      |     -     |   16.15  \n",
      "   1    |  3140   |   0.102712   |     -      |     -     |   16.17  \n",
      "   1    |  3160   |   0.065410   |     -      |     -     |   16.16  \n",
      "   1    |  3180   |   0.089776   |     -      |     -     |   16.15  \n",
      "   1    |  3200   |   0.079996   |     -      |     -     |   16.08  \n",
      "   1    |  3220   |   0.114940   |     -      |     -     |   16.15  \n",
      "   1    |  3240   |   0.063417   |     -      |     -     |   16.15  \n",
      "   1    |  3260   |   0.083722   |     -      |     -     |   16.15  \n",
      "   1    |  3280   |   0.073243   |     -      |     -     |   16.13  \n",
      "   1    |  3300   |   0.086676   |     -      |     -     |   16.13  \n",
      "   1    |  3320   |   0.079096   |     -      |     -     |   16.10  \n",
      "   1    |  3340   |   0.096067   |     -      |     -     |   16.12  \n",
      "   1    |  3360   |   0.078584   |     -      |     -     |   16.13  \n",
      "   1    |  3380   |   0.105587   |     -      |     -     |   16.12  \n",
      "   1    |  3400   |   0.068008   |     -      |     -     |   16.13  \n",
      "   1    |  3420   |   0.065108   |     -      |     -     |   16.13  \n",
      "   1    |  3440   |   0.101221   |     -      |     -     |   16.14  \n",
      "   1    |  3460   |   0.096654   |     -      |     -     |   16.12  \n",
      "   1    |  3480   |   0.123156   |     -      |     -     |   16.13  \n",
      "   1    |  3500   |   0.072909   |     -      |     -     |   16.19  \n",
      "   1    |  3520   |   0.068777   |     -      |     -     |   16.13  \n",
      "   1    |  3540   |   0.055922   |     -      |     -     |   16.16  \n",
      "   1    |  3560   |   0.087375   |     -      |     -     |   16.14  \n",
      "   1    |  3580   |   0.070186   |     -      |     -     |   16.12  \n",
      "   1    |  3600   |   0.088758   |     -      |     -     |   16.15  \n",
      "   1    |  3620   |   0.083844   |     -      |     -     |   16.18  \n",
      "   1    |  3640   |   0.040550   |     -      |     -     |   16.18  \n",
      "   1    |  3660   |   0.061325   |     -      |     -     |   16.12  \n",
      "   1    |  3680   |   0.071281   |     -      |     -     |   16.10  \n",
      "   1    |  3700   |   0.102096   |     -      |     -     |   16.16  \n",
      "   1    |  3720   |   0.077518   |     -      |     -     |   16.15  \n",
      "   1    |  3740   |   0.074475   |     -      |     -     |   16.12  \n",
      "   1    |  3760   |   0.075310   |     -      |     -     |   16.14  \n",
      "   1    |  3780   |   0.076347   |     -      |     -     |   16.11  \n",
      "   1    |  3800   |   0.101225   |     -      |     -     |   16.13  \n",
      "   1    |  3820   |   0.086124   |     -      |     -     |   16.13  \n",
      "   1    |  3840   |   0.056381   |     -      |     -     |   16.14  \n",
      "   1    |  3860   |   0.082783   |     -      |     -     |   16.15  \n",
      "   1    |  3880   |   0.095130   |     -      |     -     |   16.12  \n",
      "   1    |  3900   |   0.066660   |     -      |     -     |   16.10  \n",
      "   1    |  3920   |   0.071652   |     -      |     -     |   16.11  \n",
      "   1    |  3940   |   0.109432   |     -      |     -     |   16.10  \n",
      "   1    |  3960   |   0.078210   |     -      |     -     |   16.09  \n",
      "   1    |  3980   |   0.058358   |     -      |     -     |   16.08  \n",
      "   1    |  4000   |   0.069204   |     -      |     -     |   16.08  \n",
      "   1    |  4020   |   0.058793   |     -      |     -     |   16.07  \n",
      "   1    |  4040   |   0.064097   |     -      |     -     |   16.06  \n",
      "   1    |  4060   |   0.055173   |     -      |     -     |   16.08  \n",
      "   1    |  4080   |   0.070546   |     -      |     -     |   16.13  \n",
      "   1    |  4100   |   0.056482   |     -      |     -     |   16.13  \n",
      "   1    |  4120   |   0.065727   |     -      |     -     |   16.13  \n",
      "   1    |  4140   |   0.098514   |     -      |     -     |   16.15  \n",
      "   1    |  4160   |   0.086700   |     -      |     -     |   16.15  \n",
      "   1    |  4180   |   0.082286   |     -      |     -     |   16.15  \n",
      "   1    |  4200   |   0.067401   |     -      |     -     |   16.12  \n",
      "   1    |  4220   |   0.082709   |     -      |     -     |   16.13  \n",
      "   1    |  4240   |   0.084569   |     -      |     -     |   16.09  \n",
      "   1    |  4260   |   0.062056   |     -      |     -     |   16.16  \n",
      "   1    |  4280   |   0.071573   |     -      |     -     |   16.14  \n",
      "   1    |  4300   |   0.100676   |     -      |     -     |   16.11  \n",
      "   1    |  4320   |   0.082671   |     -      |     -     |   16.12  \n",
      "   1    |  4340   |   0.075362   |     -      |     -     |   16.16  \n",
      "   1    |  4360   |   0.092615   |     -      |     -     |   16.15  \n",
      "   1    |  4380   |   0.076894   |     -      |     -     |   16.15  \n",
      "   1    |  4400   |   0.067453   |     -      |     -     |   16.14  \n",
      "   1    |  4420   |   0.072939   |     -      |     -     |   16.12  \n",
      "   1    |  4440   |   0.053195   |     -      |     -     |   16.14  \n",
      "   1    |  4460   |   0.109017   |     -      |     -     |   16.12  \n",
      "   1    |  4480   |   0.045408   |     -      |     -     |   16.14  \n",
      "   1    |  4487   |   0.064411   |     -      |     -     |   5.59   \n",
      "----------------------------------------------------------------------\n",
      "   1    |    -    |   0.092631   |  0.081487  |   96.84   |  3761.56 \n",
      "----------------------------------------------------------------------\n",
      "\n",
      "\n",
      "Training complete!\n"
     ]
    }
   ],
   "source": [
    "set_seed(42)    # Set seed for reproducibility\n",
    "distilbert_classifier, optimizer, scheduler = initialize_model(epochs=1)\n",
    "train(distilbert_classifier, train_dataloader, val_dataloader, epochs=1, evaluation=True)"
   ]
  },
  {
   "cell_type": "code",
   "execution_count": 25,
   "id": "948e0714",
   "metadata": {
    "execution": {
     "iopub.execute_input": "2023-07-02T20:46:13.737937Z",
     "iopub.status.busy": "2023-07-02T20:46:13.736324Z",
     "iopub.status.idle": "2023-07-02T20:46:13.742067Z",
     "shell.execute_reply": "2023-07-02T20:46:13.741216Z"
    },
    "papermill": {
     "duration": 0.036355,
     "end_time": "2023-07-02T20:46:13.743966",
     "exception": false,
     "start_time": "2023-07-02T20:46:13.707611",
     "status": "completed"
    },
    "tags": []
   },
   "outputs": [],
   "source": [
    "import torch.nn.functional as F"
   ]
  },
  {
   "cell_type": "code",
   "execution_count": 26,
   "id": "2ccec67f",
   "metadata": {
    "execution": {
     "iopub.execute_input": "2023-07-02T20:46:13.801971Z",
     "iopub.status.busy": "2023-07-02T20:46:13.800442Z",
     "iopub.status.idle": "2023-07-02T20:46:13.807677Z",
     "shell.execute_reply": "2023-07-02T20:46:13.806799Z"
    },
    "papermill": {
     "duration": 0.0378,
     "end_time": "2023-07-02T20:46:13.809772",
     "exception": false,
     "start_time": "2023-07-02T20:46:13.771972",
     "status": "completed"
    },
    "tags": []
   },
   "outputs": [],
   "source": [
    "def distilbert_predict(model, test_dataloader):\n",
    "    \"\"\"Perform a forward pass on the trained BERT model to predict probabilities\n",
    "    on the test set.\n",
    "    \"\"\"\n",
    "    # Put the model into the evaluation mode. The dropout layers are disabled during\n",
    "    # the test time.\n",
    "    model.eval()\n",
    "\n",
    "    all_logits = []\n",
    "\n",
    "    # For each batch in our test set...\n",
    "    for batch in test_dataloader:\n",
    "        # Load batch to GPU\n",
    "        b_input_ids, b_attn_mask = tuple(t.to(device) for t in batch)[:2]\n",
    "\n",
    "        # Compute logits\n",
    "        with torch.no_grad():\n",
    "            logits = model(b_input_ids, b_attn_mask)\n",
    "        all_logits.append(logits)\n",
    "    \n",
    "    # Concatenate logits from each batch\n",
    "    all_logits = torch.cat(all_logits, dim=0)\n",
    "\n",
    "    # Apply softmax to calculate probabilities\n",
    "    probs = F.softmax(all_logits, dim=1).cpu().numpy()\n",
    "\n",
    "    return probs"
   ]
  },
  {
   "cell_type": "code",
   "execution_count": 27,
   "id": "0fa162e2",
   "metadata": {
    "execution": {
     "iopub.execute_input": "2023-07-02T20:46:13.866300Z",
     "iopub.status.busy": "2023-07-02T20:46:13.866036Z",
     "iopub.status.idle": "2023-07-02T20:46:13.875090Z",
     "shell.execute_reply": "2023-07-02T20:46:13.874091Z"
    },
    "papermill": {
     "duration": 0.039476,
     "end_time": "2023-07-02T20:46:13.877159",
     "exception": false,
     "start_time": "2023-07-02T20:46:13.837683",
     "status": "completed"
    },
    "tags": []
   },
   "outputs": [],
   "source": [
    "from sklearn.metrics import accuracy_score, roc_curve, auc, precision_score, recall_score, f1_score\n",
    "\n",
    "def evaluate_roc(probs, y_true):\n",
    "    \"\"\"\n",
    "    - Print AUC, accuracy, precision, recall, and F-measure on the test set\n",
    "    - Plot ROC\n",
    "    @params    probs (np.array): an array of predicted probabilities with shape (len(y_true), 2)\n",
    "    @params    y_true (np.array): an array of the true values with shape (len(y_true),)\n",
    "    \"\"\"\n",
    "    preds = probs[:, 1]\n",
    "    fpr, tpr, threshold = roc_curve(y_true, preds)\n",
    "    roc_auc = auc(fpr, tpr)\n",
    "    print(f'AUC: {roc_auc:.4f}')\n",
    "       \n",
    "    # Get accuracy over the test set\n",
    "    y_pred = np.where(preds >= 0.5, 1, 0)\n",
    "    accuracy = accuracy_score(y_true, y_pred)\n",
    "    print(f'Accuracy: {accuracy*100:.2f}%')\n",
    "    \n",
    "    # Get precision, recall, and F-measure\n",
    "    precision = precision_score(y_true, y_pred)\n",
    "    recall = recall_score(y_true, y_pred)\n",
    "    f_measure = f1_score(y_true, y_pred)\n",
    "    print(f'Precision: {precision:.4f}')\n",
    "    print(f'Recall: {recall:.4f}')\n",
    "    print(f'F-measure: {f_measure:.4f}')\n",
    "    \n",
    "    # Plot ROC AUC\n",
    "    plt.title('Receiver Operating Characteristic')\n",
    "    plt.plot(fpr, tpr, 'b', label='AUC = %0.2f' % roc_auc)\n",
    "    plt.legend(loc='lower right')\n",
    "    plt.plot([0, 1], [0, 1], 'r--')\n",
    "    plt.xlim([0, 1])\n",
    "    plt.ylim([0, 1])\n",
    "    plt.ylabel('True Positive Rate')\n",
    "    plt.xlabel('False Positive Rate')\n",
    "    plt.show()\n"
   ]
  },
  {
   "cell_type": "code",
   "execution_count": 28,
   "id": "5d928648",
   "metadata": {
    "execution": {
     "iopub.execute_input": "2023-07-02T20:46:13.934239Z",
     "iopub.status.busy": "2023-07-02T20:46:13.933979Z",
     "iopub.status.idle": "2023-07-02T20:48:42.936803Z",
     "shell.execute_reply": "2023-07-02T20:48:42.935764Z"
    },
    "papermill": {
     "duration": 149.034704,
     "end_time": "2023-07-02T20:48:42.939746",
     "exception": false,
     "start_time": "2023-07-02T20:46:13.905042",
     "status": "completed"
    },
    "tags": []
   },
   "outputs": [
    {
     "name": "stdout",
     "output_type": "stream",
     "text": [
      "AUC: 0.9865\n",
      "Accuracy: 96.84%\n",
      "Precision: 0.8603\n",
      "Recall: 0.7993\n",
      "F-measure: 0.8287\n"
     ]
    },
    {
     "data": {
      "image/png": "[encoded data removed]",
      "text/plain": [
       "<Figure size 640x480 with 1 Axes>"
      ]
     },
     "metadata": {},
     "output_type": "display_data"
    }
   ],
   "source": [
    "probs = distilbert_predict(distilbert_classifier, val_dataloader)\n",
    "evaluate_roc(probs, y_val)"
   ]
  },
  {
   "cell_type": "code",
   "execution_count": null,
   "id": "f59bd635",
   "metadata": {
    "papermill": {
     "duration": 0.028903,
     "end_time": "2023-07-02T20:48:42.997855",
     "exception": false,
     "start_time": "2023-07-02T20:48:42.968952",
     "status": "completed"
    },
    "tags": []
   },
   "outputs": [],
   "source": []
  }
 ],
 "metadata": {
  "kernelspec": {
   "display_name": "Python 3",
   "language": "python",
   "name": "python3"
  },
  "language_info": {
   "codemirror_mode": {
    "name": "ipython",
    "version": 3
   },
   "file_extension": ".py",
   "mimetype": "text/x-python",
   "name": "python",
   "nbconvert_exporter": "python",
   "pygments_lexer": "ipython3",
   "version": "3.10.10"
  },
  "papermill": {
   "default_parameters": {},
   "duration": 4440.889071,
   "end_time": "2023-07-02T20:48:46.321639",
   "environment_variables": {},
   "exception": null,
   "input_path": "__notebook__.ipynb",
   "output_path": "__notebook__.ipynb",
   "parameters": {},
   "start_time": "2023-07-02T19:34:45.432568",
   "version": "2.4.0"
  },
  "widgets": {
   "application/vnd.jupyter.widget-state+json": {
    "state": {
     "05d06bd7ff1a4da7b5bcc36b1c9d11e6": {
      "model_module": "@jupyter-widgets/base",
      "model_module_version": "1.2.0",
      "model_name": "LayoutModel",
      "state": {
       "_model_module": "@jupyter-widgets/base",
       "_model_module_version": "1.2.0",
       "_model_name": "LayoutModel",
       "_view_count": null,
       "_view_module": "@jupyter-widgets/base",
       "_view_module_version": "1.2.0",
       "_view_name": "LayoutView",
       "align_content": null,
       "align_items": null,
       "align_self": null,
       "border": null,
       "bottom": null,
       "display": null,
       "flex": null,
       "flex_flow": null,
       "grid_area": null,
       "grid_auto_columns": null,
       "grid_auto_flow": null,
       "grid_auto_rows": null,
       "grid_column": null,
       "grid_gap": null,
       "grid_row": null,
       "grid_template_areas": null,
       "grid_template_columns": null,
       "grid_template_rows": null,
       "height": null,
       "justify_content": null,
       "justify_items": null,
       "left": null,
       "margin": null,
       "max_height": null,
       "max_width": null,
       "min_height": null,
       "min_width": null,
       "object_fit": null,
       "object_position": null,
       "order": null,
       "overflow": null,
       "overflow_x": null,
       "overflow_y": null,
       "padding": null,
       "right": null,
       "top": null,
       "visibility": null,
       "width": null
      }
     },
     "0bc365e679fe4ab8b5432605bfbc66df": {
      "model_module": "@jupyter-widgets/controls",
      "model_module_version": "1.5.0",
      "model_name": "FloatProgressModel",
      "state": {
       "_dom_classes": [],
       "_model_module": "@jupyter-widgets/controls",
       "_model_module_version": "1.5.0",
       "_model_name": "FloatProgressModel",
       "_view_count": null,
       "_view_module": "@jupyter-widgets/controls",
       "_view_module_version": "1.5.0",
       "_view_name": "ProgressView",
       "bar_style": "success",
       "description": "",
       "description_tooltip": null,
       "layout": "IPY_MODEL_ebcec43afce14a548448c8a2cf5470ce",
       "max": 231508.0,
       "min": 0.0,
       "orientation": "horizontal",
       "style": "IPY_MODEL_58badf8947e64c8993f0fb7ee86cf497",
       "value": 231508.0
      }
     },
     "202a16bea6f94185aca627d51460059e": {
      "model_module": "@jupyter-widgets/controls",
      "model_module_version": "1.5.0",
      "model_name": "HBoxModel",
      "state": {
       "_dom_classes": [],
       "_model_module": "@jupyter-widgets/controls",
       "_model_module_version": "1.5.0",
       "_model_name": "HBoxModel",
       "_view_count": null,
       "_view_module": "@jupyter-widgets/controls",
       "_view_module_version": "1.5.0",
       "_view_name": "HBoxView",
       "box_style": "",
       "children": [
        "IPY_MODEL_48785f5f4fc143b7aca3b209c74e7024",
        "IPY_MODEL_cccbddf67ffa40c2b8ddfd9d3698a749",
        "IPY_MODEL_bd265fba7e9c4cdc92d143e4e925cc9c"
       ],
       "layout": "IPY_MODEL_c7d88033d6674fa2b22969b3e9da151b"
      }
     },
     "2501a8a76fd8432896726c9deda2dfd5": {
      "model_module": "@jupyter-widgets/controls",
      "model_module_version": "1.5.0",
      "model_name": "HBoxModel",
      "state": {
       "_dom_classes": [],
       "_model_module": "@jupyter-widgets/controls",
       "_model_module_version": "1.5.0",
       "_model_name": "HBoxModel",
       "_view_count": null,
       "_view_module": "@jupyter-widgets/controls",
       "_view_module_version": "1.5.0",
       "_view_name": "HBoxView",
       "box_style": "",
       "children": [
        "IPY_MODEL_6e5f74020f424034b403638c67c9bd9f",
        "IPY_MODEL_4c460858e8544d1b803449d9d37a12bf",
        "IPY_MODEL_7d7617a43ca9469fbabf87b684eb7fb8"
       ],
       "layout": "IPY_MODEL_2570d0db7a5b4dca9311e7245a951fce"
      }
     },
     "2570d0db7a5b4dca9311e7245a951fce": {
      "model_module": "@jupyter-widgets/base",
      "model_module_version": "1.2.0",
      "model_name": "LayoutModel",
      "state": {
       "_model_module": "@jupyter-widgets/base",
       "_model_module_version": "1.2.0",
       "_model_name": "LayoutModel",
       "_view_count": null,
       "_view_module": "@jupyter-widgets/base",
       "_view_module_version": "1.2.0",
       "_view_name": "LayoutView",
       "align_content": null,
       "align_items": null,
       "align_self": null,
       "border": null,
       "bottom": null,
       "display": null,
       "flex": null,
       "flex_flow": null,
       "grid_area": null,
       "grid_auto_columns": null,
       "grid_auto_flow": null,
       "grid_auto_rows": null,
       "grid_column": null,
       "grid_gap": null,
       "grid_row": null,
       "grid_template_areas": null,
       "grid_template_columns": null,
       "grid_template_rows": null,
       "height": null,
       "justify_content": null,
       "justify_items": null,
       "left": null,
       "margin": null,
       "max_height": null,
       "max_width": null,
       "min_height": null,
       "min_width": null,
       "object_fit": null,
       "object_position": null,
       "order": null,
       "overflow": null,
       "overflow_x": null,
       "overflow_y": null,
       "padding": null,
       "right": null,
       "top": null,
       "visibility": null,
       "width": null
      }
     },
     "2c52ae93579c47e58a9e1dc2844f0661": {
      "model_module": "@jupyter-widgets/base",
      "model_module_version": "1.2.0",
      "model_name": "LayoutModel",
      "state": {
       "_model_module": "@jupyter-widgets/base",
       "_model_module_version": "1.2.0",
       "_model_name": "LayoutModel",
       "_view_count": null,
       "_view_module": "@jupyter-widgets/base",
       "_view_module_version": "1.2.0",
       "_view_name": "LayoutView",
       "align_content": null,
       "align_items": null,
       "align_self": null,
       "border": null,
       "bottom": null,
       "display": null,
       "flex": null,
       "flex_flow": null,
       "grid_area": null,
       "grid_auto_columns": null,
       "grid_auto_flow": null,
       "grid_auto_rows": null,
       "grid_column": null,
       "grid_gap": null,
       "grid_row": null,
       "grid_template_areas": null,
       "grid_template_columns": null,
       "grid_template_rows": null,
       "height": null,
       "justify_content": null,
       "justify_items": null,
       "left": null,
       "margin": null,
       "max_height": null,
       "max_width": null,
       "min_height": null,
       "min_width": null,
       "object_fit": null,
       "object_position": null,
       "order": null,
       "overflow": null,
       "overflow_x": null,
       "overflow_y": null,
       "padding": null,
       "right": null,
       "top": null,
       "visibility": null,
       "width": null
      }
     },
     "317b59b47e2740cc8f03a1f67f8b5729": {
      "model_module": "@jupyter-widgets/controls",
      "model_module_version": "1.5.0",
      "model_name": "HBoxModel",
      "state": {
       "_dom_classes": [],
       "_model_module": "@jupyter-widgets/controls",
       "_model_module_version": "1.5.0",
       "_model_name": "HBoxModel",
       "_view_count": null,
       "_view_module": "@jupyter-widgets/controls",
       "_view_module_version": "1.5.0",
       "_view_name": "HBoxView",
       "box_style": "",
       "children": [
        "IPY_MODEL_4274de2c3864449b8cd94dfbadda690b",
        "IPY_MODEL_0bc365e679fe4ab8b5432605bfbc66df",
        "IPY_MODEL_a70079925f664af9850380aa78f44e47"
       ],
       "layout": "IPY_MODEL_05d06bd7ff1a4da7b5bcc36b1c9d11e6"
      }
     },
     "3736c2f7d7a743a0a85645f2e666bbff": {
      "model_module": "@jupyter-widgets/controls",
      "model_module_version": "1.5.0",
      "model_name": "HTMLModel",
      "state": {
       "_dom_classes": [],
       "_model_module": "@jupyter-widgets/controls",
       "_model_module_version": "1.5.0",
       "_model_name": "HTMLModel",
       "_view_count": null,
       "_view_module": "@jupyter-widgets/controls",
       "_view_module_version": "1.5.0",
       "_view_name": "HTMLView",
       "description": "",
       "description_tooltip": null,
       "layout": "IPY_MODEL_aeb5230142c54f62b858fa3825c73c0f",
       "placeholder": "​",
       "style": "IPY_MODEL_fac600b47cc646aeb003a929da7c4fca",
       "value": "Downloading (…)okenizer_config.json: 100%"
      }
     },
     "39e2f9e5fc654633a6853eaa06dfaa2b": {
      "model_module": "@jupyter-widgets/controls",
      "model_module_version": "1.5.0",
      "model_name": "DescriptionStyleModel",
      "state": {
       "_model_module": "@jupyter-widgets/controls",
       "_model_module_version": "1.5.0",
       "_model_name": "DescriptionStyleModel",
       "_view_count": null,
       "_view_module": "@jupyter-widgets/base",
       "_view_module_version": "1.2.0",
       "_view_name": "StyleView",
       "description_width": ""
      }
     },
     "3abaace926dd4cb092f9bf67fec8a383": {
      "model_module": "@jupyter-widgets/base",
      "model_module_version": "1.2.0",
      "model_name": "LayoutModel",
      "state": {
       "_model_module": "@jupyter-widgets/base",
       "_model_module_version": "1.2.0",
       "_model_name": "LayoutModel",
       "_view_count": null,
       "_view_module": "@jupyter-widgets/base",
       "_view_module_version": "1.2.0",
       "_view_name": "LayoutView",
       "align_content": null,
       "align_items": null,
       "align_self": null,
       "border": null,
       "bottom": null,
       "display": null,
       "flex": null,
       "flex_flow": null,
       "grid_area": null,
       "grid_auto_columns": null,
       "grid_auto_flow": null,
       "grid_auto_rows": null,
       "grid_column": null,
       "grid_gap": null,
       "grid_row": null,
       "grid_template_areas": null,
       "grid_template_columns": null,
       "grid_template_rows": null,
       "height": null,
       "justify_content": null,
       "justify_items": null,
       "left": null,
       "margin": null,
       "max_height": null,
       "max_width": null,
       "min_height": null,
       "min_width": null,
       "object_fit": null,
       "object_position": null,
       "order": null,
       "overflow": null,
       "overflow_x": null,
       "overflow_y": null,
       "padding": null,
       "right": null,
       "top": null,
       "visibility": null,
       "width": null
      }
     },
     "4274de2c3864449b8cd94dfbadda690b": {
      "model_module": "@jupyter-widgets/controls",
      "model_module_version": "1.5.0",
      "model_name": "HTMLModel",
      "state": {
       "_dom_classes": [],
       "_model_module": "@jupyter-widgets/controls",
       "_model_module_version": "1.5.0",
       "_model_name": "HTMLModel",
       "_view_count": null,
       "_view_module": "@jupyter-widgets/controls",
       "_view_module_version": "1.5.0",
       "_view_name": "HTMLView",
       "description": "",
       "description_tooltip": null,
       "layout": "IPY_MODEL_cb2227e4f3bc4ce685869609d3df8cd4",
       "placeholder": "​",
       "style": "IPY_MODEL_ab3ff086a549456fb1f154af0bca7578",
       "value": "Downloading (…)solve/main/vocab.txt: 100%"
      }
     },
     "45ed92b24f224e7ba3e4e40629274434": {
      "model_module": "@jupyter-widgets/controls",
      "model_module_version": "1.5.0",
      "model_name": "DescriptionStyleModel",
      "state": {
       "_model_module": "@jupyter-widgets/controls",
       "_model_module_version": "1.5.0",
       "_model_name": "DescriptionStyleModel",
       "_view_count": null,
       "_view_module": "@jupyter-widgets/base",
       "_view_module_version": "1.2.0",
       "_view_name": "StyleView",
       "description_width": ""
      }
     },
     "47ad00a69c5b4649963be28d949e14e2": {
      "model_module": "@jupyter-widgets/base",
      "model_module_version": "1.2.0",
      "model_name": "LayoutModel",
      "state": {
       "_model_module": "@jupyter-widgets/base",
       "_model_module_version": "1.2.0",
       "_model_name": "LayoutModel",
       "_view_count": null,
       "_view_module": "@jupyter-widgets/base",
       "_view_module_version": "1.2.0",
       "_view_name": "LayoutView",
       "align_content": null,
       "align_items": null,
       "align_self": null,
       "border": null,
       "bottom": null,
       "display": null,
       "flex": null,
       "flex_flow": null,
       "grid_area": null,
       "grid_auto_columns": null,
       "grid_auto_flow": null,
       "grid_auto_rows": null,
       "grid_column": null,
       "grid_gap": null,
       "grid_row": null,
       "grid_template_areas": null,
       "grid_template_columns": null,
       "grid_template_rows": null,
       "height": null,
       "justify_content": null,
       "justify_items": null,
       "left": null,
       "margin": null,
       "max_height": null,
       "max_width": null,
       "min_height": null,
       "min_width": null,
       "object_fit": null,
       "object_position": null,
       "order": null,
       "overflow": null,
       "overflow_x": null,
       "overflow_y": null,
       "padding": null,
       "right": null,
       "top": null,
       "visibility": null,
       "width": null
      }
     },
     "47d92f5546854b4f8ebd05a4e0a76b93": {
      "model_module": "@jupyter-widgets/base",
      "model_module_version": "1.2.0",
      "model_name": "LayoutModel",
      "state": {
       "_model_module": "@jupyter-widgets/base",
       "_model_module_version": "1.2.0",
       "_model_name": "LayoutModel",
       "_view_count": null,
       "_view_module": "@jupyter-widgets/base",
       "_view_module_version": "1.2.0",
       "_view_name": "LayoutView",
       "align_content": null,
       "align_items": null,
       "align_self": null,
       "border": null,
       "bottom": null,
       "display": null,
       "flex": null,
       "flex_flow": null,
       "grid_area": null,
       "grid_auto_columns": null,
       "grid_auto_flow": null,
       "grid_auto_rows": null,
       "grid_column": null,
       "grid_gap": null,
       "grid_row": null,
       "grid_template_areas": null,
       "grid_template_columns": null,
       "grid_template_rows": null,
       "height": null,
       "justify_content": null,
       "justify_items": null,
       "left": null,
       "margin": null,
       "max_height": null,
       "max_width": null,
       "min_height": null,
       "min_width": null,
       "object_fit": null,
       "object_position": null,
       "order": null,
       "overflow": null,
       "overflow_x": null,
       "overflow_y": null,
       "padding": null,
       "right": null,
       "top": null,
       "visibility": null,
       "width": null
      }
     },
     "48785f5f4fc143b7aca3b209c74e7024": {
      "model_module": "@jupyter-widgets/controls",
      "model_module_version": "1.5.0",
      "model_name": "HTMLModel",
      "state": {
       "_dom_classes": [],
       "_model_module": "@jupyter-widgets/controls",
       "_model_module_version": "1.5.0",
       "_model_name": "HTMLModel",
       "_view_count": null,
       "_view_module": "@jupyter-widgets/controls",
       "_view_module_version": "1.5.0",
       "_view_name": "HTMLView",
       "description": "",
       "description_tooltip": null,
       "layout": "IPY_MODEL_e1f0aed8327942af8281918413b39999",
       "placeholder": "​",
       "style": "IPY_MODEL_39e2f9e5fc654633a6853eaa06dfaa2b",
       "value": "Downloading (…)lve/main/config.json: 100%"
      }
     },
     "4c460858e8544d1b803449d9d37a12bf": {
      "model_module": "@jupyter-widgets/controls",
      "model_module_version": "1.5.0",
      "model_name": "FloatProgressModel",
      "state": {
       "_dom_classes": [],
       "_model_module": "@jupyter-widgets/controls",
       "_model_module_version": "1.5.0",
       "_model_name": "FloatProgressModel",
       "_view_count": null,
       "_view_module": "@jupyter-widgets/controls",
       "_view_module_version": "1.5.0",
       "_view_name": "ProgressView",
       "bar_style": "success",
       "description": "",
       "description_tooltip": null,
       "layout": "IPY_MODEL_d23084ae930243349bc742bb6aee4755",
       "max": 267954768.0,
       "min": 0.0,
       "orientation": "horizontal",
       "style": "IPY_MODEL_f49682e5909446fd95a6c7a7cb553e70",
       "value": 267954768.0
      }
     },
     "58badf8947e64c8993f0fb7ee86cf497": {
      "model_module": "@jupyter-widgets/controls",
      "model_module_version": "1.5.0",
      "model_name": "ProgressStyleModel",
      "state": {
       "_model_module": "@jupyter-widgets/controls",
       "_model_module_version": "1.5.0",
       "_model_name": "ProgressStyleModel",
       "_view_count": null,
       "_view_module": "@jupyter-widgets/base",
       "_view_module_version": "1.2.0",
       "_view_name": "StyleView",
       "bar_color": null,
       "description_width": ""
      }
     },
     "6c13507bddbd468b9f10d553101f372d": {
      "model_module": "@jupyter-widgets/controls",
      "model_module_version": "1.5.0",
      "model_name": "ProgressStyleModel",
      "state": {
       "_model_module": "@jupyter-widgets/controls",
       "_model_module_version": "1.5.0",
       "_model_name": "ProgressStyleModel",
       "_view_count": null,
       "_view_module": "@jupyter-widgets/base",
       "_view_module_version": "1.2.0",
       "_view_name": "StyleView",
       "bar_color": null,
       "description_width": ""
      }
     },
     "6e5f74020f424034b403638c67c9bd9f": {
      "model_module": "@jupyter-widgets/controls",
      "model_module_version": "1.5.0",
      "model_name": "HTMLModel",
      "state": {
       "_dom_classes": [],
       "_model_module": "@jupyter-widgets/controls",
       "_model_module_version": "1.5.0",
       "_model_name": "HTMLModel",
       "_view_count": null,
       "_view_module": "@jupyter-widgets/controls",
       "_view_module_version": "1.5.0",
       "_view_name": "HTMLView",
       "description": "",
       "description_tooltip": null,
       "layout": "IPY_MODEL_47ad00a69c5b4649963be28d949e14e2",
       "placeholder": "​",
       "style": "IPY_MODEL_89b8062db34346d8a50c3cfa1d2d3ed4",
       "value": "Downloading model.safetensors: 100%"
      }
     },
     "7d7617a43ca9469fbabf87b684eb7fb8": {
      "model_module": "@jupyter-widgets/controls",
      "model_module_version": "1.5.0",
      "model_name": "HTMLModel",
      "state": {
       "_dom_classes": [],
       "_model_module": "@jupyter-widgets/controls",
       "_model_module_version": "1.5.0",
       "_model_name": "HTMLModel",
       "_view_count": null,
       "_view_module": "@jupyter-widgets/controls",
       "_view_module_version": "1.5.0",
       "_view_name": "HTMLView",
       "description": "",
       "description_tooltip": null,
       "layout": "IPY_MODEL_7deb7289d7e647afb46ec205aba8e808",
       "placeholder": "​",
       "style": "IPY_MODEL_99219bf8236544d58992176e56967941",
       "value": " 268M/268M [00:01&lt;00:00, 233MB/s]"
      }
     },
     "7deb7289d7e647afb46ec205aba8e808": {
      "model_module": "@jupyter-widgets/base",
      "model_module_version": "1.2.0",
      "model_name": "LayoutModel",
      "state": {
       "_model_module": "@jupyter-widgets/base",
       "_model_module_version": "1.2.0",
       "_model_name": "LayoutModel",
       "_view_count": null,
       "_view_module": "@jupyter-widgets/base",
       "_view_module_version": "1.2.0",
       "_view_name": "LayoutView",
       "align_content": null,
       "align_items": null,
       "align_self": null,
       "border": null,
       "bottom": null,
       "display": null,
       "flex": null,
       "flex_flow": null,
       "grid_area": null,
       "grid_auto_columns": null,
       "grid_auto_flow": null,
       "grid_auto_rows": null,
       "grid_column": null,
       "grid_gap": null,
       "grid_row": null,
       "grid_template_areas": null,
       "grid_template_columns": null,
       "grid_template_rows": null,
       "height": null,
       "justify_content": null,
       "justify_items": null,
       "left": null,
       "margin": null,
       "max_height": null,
       "max_width": null,
       "min_height": null,
       "min_width": null,
       "object_fit": null,
       "object_position": null,
       "order": null,
       "overflow": null,
       "overflow_x": null,
       "overflow_y": null,
       "padding": null,
       "right": null,
       "top": null,
       "visibility": null,
       "width": null
      }
     },
     "82048c606a6a44609312b4bbb1427842": {
      "model_module": "@jupyter-widgets/base",
      "model_module_version": "1.2.0",
      "model_name": "LayoutModel",
      "state": {
       "_model_module": "@jupyter-widgets/base",
       "_model_module_version": "1.2.0",
       "_model_name": "LayoutModel",
       "_view_count": null,
       "_view_module": "@jupyter-widgets/base",
       "_view_module_version": "1.2.0",
       "_view_name": "LayoutView",
       "align_content": null,
       "align_items": null,
       "align_self": null,
       "border": null,
       "bottom": null,
       "display": null,
       "flex": null,
       "flex_flow": null,
       "grid_area": null,
       "grid_auto_columns": null,
       "grid_auto_flow": null,
       "grid_auto_rows": null,
       "grid_column": null,
       "grid_gap": null,
       "grid_row": null,
       "grid_template_areas": null,
       "grid_template_columns": null,
       "grid_template_rows": null,
       "height": null,
       "justify_content": null,
       "justify_items": null,
       "left": null,
       "margin": null,
       "max_height": null,
       "max_width": null,
       "min_height": null,
       "min_width": null,
       "object_fit": null,
       "object_position": null,
       "order": null,
       "overflow": null,
       "overflow_x": null,
       "overflow_y": null,
       "padding": null,
       "right": null,
       "top": null,
       "visibility": null,
       "width": null
      }
     },
     "89b8062db34346d8a50c3cfa1d2d3ed4": {
      "model_module": "@jupyter-widgets/controls",
      "model_module_version": "1.5.0",
      "model_name": "DescriptionStyleModel",
      "state": {
       "_model_module": "@jupyter-widgets/controls",
       "_model_module_version": "1.5.0",
       "_model_name": "DescriptionStyleModel",
       "_view_count": null,
       "_view_module": "@jupyter-widgets/base",
       "_view_module_version": "1.2.0",
       "_view_name": "StyleView",
       "description_width": ""
      }
     },
     "8c466f6aa4fd44b9980cb11f69d4225b": {
      "model_module": "@jupyter-widgets/base",
      "model_module_version": "1.2.0",
      "model_name": "LayoutModel",
      "state": {
       "_model_module": "@jupyter-widgets/base",
       "_model_module_version": "1.2.0",
       "_model_name": "LayoutModel",
       "_view_count": null,
       "_view_module": "@jupyter-widgets/base",
       "_view_module_version": "1.2.0",
       "_view_name": "LayoutView",
       "align_content": null,
       "align_items": null,
       "align_self": null,
       "border": null,
       "bottom": null,
       "display": null,
       "flex": null,
       "flex_flow": null,
       "grid_area": null,
       "grid_auto_columns": null,
       "grid_auto_flow": null,
       "grid_auto_rows": null,
       "grid_column": null,
       "grid_gap": null,
       "grid_row": null,
       "grid_template_areas": null,
       "grid_template_columns": null,
       "grid_template_rows": null,
       "height": null,
       "justify_content": null,
       "justify_items": null,
       "left": null,
       "margin": null,
       "max_height": null,
       "max_width": null,
       "min_height": null,
       "min_width": null,
       "object_fit": null,
       "object_position": null,
       "order": null,
       "overflow": null,
       "overflow_x": null,
       "overflow_y": null,
       "padding": null,
       "right": null,
       "top": null,
       "visibility": null,
       "width": null
      }
     },
     "99219bf8236544d58992176e56967941": {
      "model_module": "@jupyter-widgets/controls",
      "model_module_version": "1.5.0",
      "model_name": "DescriptionStyleModel",
      "state": {
       "_model_module": "@jupyter-widgets/controls",
       "_model_module_version": "1.5.0",
       "_model_name": "DescriptionStyleModel",
       "_view_count": null,
       "_view_module": "@jupyter-widgets/base",
       "_view_module_version": "1.2.0",
       "_view_name": "StyleView",
       "description_width": ""
      }
     },
     "9fdd10bd69e840a9a7435391f30a2d87": {
      "model_module": "@jupyter-widgets/base",
      "model_module_version": "1.2.0",
      "model_name": "LayoutModel",
      "state": {
       "_model_module": "@jupyter-widgets/base",
       "_model_module_version": "1.2.0",
       "_model_name": "LayoutModel",
       "_view_count": null,
       "_view_module": "@jupyter-widgets/base",
       "_view_module_version": "1.2.0",
       "_view_name": "LayoutView",
       "align_content": null,
       "align_items": null,
       "align_self": null,
       "border": null,
       "bottom": null,
       "display": null,
       "flex": null,
       "flex_flow": null,
       "grid_area": null,
       "grid_auto_columns": null,
       "grid_auto_flow": null,
       "grid_auto_rows": null,
       "grid_column": null,
       "grid_gap": null,
       "grid_row": null,
       "grid_template_areas": null,
       "grid_template_columns": null,
       "grid_template_rows": null,
       "height": null,
       "justify_content": null,
       "justify_items": null,
       "left": null,
       "margin": null,
       "max_height": null,
       "max_width": null,
       "min_height": null,
       "min_width": null,
       "object_fit": null,
       "object_position": null,
       "order": null,
       "overflow": null,
       "overflow_x": null,
       "overflow_y": null,
       "padding": null,
       "right": null,
       "top": null,
       "visibility": null,
       "width": null
      }
     },
     "a51a9f315ed043379c100cbd6d68b999": {
      "model_module": "@jupyter-widgets/controls",
      "model_module_version": "1.5.0",
      "model_name": "DescriptionStyleModel",
      "state": {
       "_model_module": "@jupyter-widgets/controls",
       "_model_module_version": "1.5.0",
       "_model_name": "DescriptionStyleModel",
       "_view_count": null,
       "_view_module": "@jupyter-widgets/base",
       "_view_module_version": "1.2.0",
       "_view_name": "StyleView",
       "description_width": ""
      }
     },
     "a70079925f664af9850380aa78f44e47": {
      "model_module": "@jupyter-widgets/controls",
      "model_module_version": "1.5.0",
      "model_name": "HTMLModel",
      "state": {
       "_dom_classes": [],
       "_model_module": "@jupyter-widgets/controls",
       "_model_module_version": "1.5.0",
       "_model_name": "HTMLModel",
       "_view_count": null,
       "_view_module": "@jupyter-widgets/controls",
       "_view_module_version": "1.5.0",
       "_view_name": "HTMLView",
       "description": "",
       "description_tooltip": null,
       "layout": "IPY_MODEL_8c466f6aa4fd44b9980cb11f69d4225b",
       "placeholder": "​",
       "style": "IPY_MODEL_addeacb35381437ea7804ae15c24dd62",
       "value": " 232k/232k [00:00&lt;00:00, 4.94MB/s]"
      }
     },
     "ab3ff086a549456fb1f154af0bca7578": {
      "model_module": "@jupyter-widgets/controls",
      "model_module_version": "1.5.0",
      "model_name": "DescriptionStyleModel",
      "state": {
       "_model_module": "@jupyter-widgets/controls",
       "_model_module_version": "1.5.0",
       "_model_name": "DescriptionStyleModel",
       "_view_count": null,
       "_view_module": "@jupyter-widgets/base",
       "_view_module_version": "1.2.0",
       "_view_name": "StyleView",
       "description_width": ""
      }
     },
     "addeacb35381437ea7804ae15c24dd62": {
      "model_module": "@jupyter-widgets/controls",
      "model_module_version": "1.5.0",
      "model_name": "DescriptionStyleModel",
      "state": {
       "_model_module": "@jupyter-widgets/controls",
       "_model_module_version": "1.5.0",
       "_model_name": "DescriptionStyleModel",
       "_view_count": null,
       "_view_module": "@jupyter-widgets/base",
       "_view_module_version": "1.2.0",
       "_view_name": "StyleView",
       "description_width": ""
      }
     },
     "aeb5230142c54f62b858fa3825c73c0f": {
      "model_module": "@jupyter-widgets/base",
      "model_module_version": "1.2.0",
      "model_name": "LayoutModel",
      "state": {
       "_model_module": "@jupyter-widgets/base",
       "_model_module_version": "1.2.0",
       "_model_name": "LayoutModel",
       "_view_count": null,
       "_view_module": "@jupyter-widgets/base",
       "_view_module_version": "1.2.0",
       "_view_name": "LayoutView",
       "align_content": null,
       "align_items": null,
       "align_self": null,
       "border": null,
       "bottom": null,
       "display": null,
       "flex": null,
       "flex_flow": null,
       "grid_area": null,
       "grid_auto_columns": null,
       "grid_auto_flow": null,
       "grid_auto_rows": null,
       "grid_column": null,
       "grid_gap": null,
       "grid_row": null,
       "grid_template_areas": null,
       "grid_template_columns": null,
       "grid_template_rows": null,
       "height": null,
       "justify_content": null,
       "justify_items": null,
       "left": null,
       "margin": null,
       "max_height": null,
       "max_width": null,
       "min_height": null,
       "min_width": null,
       "object_fit": null,
       "object_position": null,
       "order": null,
       "overflow": null,
       "overflow_x": null,
       "overflow_y": null,
       "padding": null,
       "right": null,
       "top": null,
       "visibility": null,
       "width": null
      }
     },
     "b72b25e091b54ee888d361c3408b99d2": {
      "model_module": "@jupyter-widgets/controls",
      "model_module_version": "1.5.0",
      "model_name": "HBoxModel",
      "state": {
       "_dom_classes": [],
       "_model_module": "@jupyter-widgets/controls",
       "_model_module_version": "1.5.0",
       "_model_name": "HBoxModel",
       "_view_count": null,
       "_view_module": "@jupyter-widgets/controls",
       "_view_module_version": "1.5.0",
       "_view_name": "HBoxView",
       "box_style": "",
       "children": [
        "IPY_MODEL_3736c2f7d7a743a0a85645f2e666bbff",
        "IPY_MODEL_f32ac8dc20114077a036928b6217feb2",
        "IPY_MODEL_c36926829fb64da584dc687b2ffb22fc"
       ],
       "layout": "IPY_MODEL_9fdd10bd69e840a9a7435391f30a2d87"
      }
     },
     "bd265fba7e9c4cdc92d143e4e925cc9c": {
      "model_module": "@jupyter-widgets/controls",
      "model_module_version": "1.5.0",
      "model_name": "HTMLModel",
      "state": {
       "_dom_classes": [],
       "_model_module": "@jupyter-widgets/controls",
       "_model_module_version": "1.5.0",
       "_model_name": "HTMLModel",
       "_view_count": null,
       "_view_module": "@jupyter-widgets/controls",
       "_view_module_version": "1.5.0",
       "_view_name": "HTMLView",
       "description": "",
       "description_tooltip": null,
       "layout": "IPY_MODEL_3abaace926dd4cb092f9bf67fec8a383",
       "placeholder": "​",
       "style": "IPY_MODEL_45ed92b24f224e7ba3e4e40629274434",
       "value": " 483/483 [00:00&lt;00:00, 29.8kB/s]"
      }
     },
     "c36926829fb64da584dc687b2ffb22fc": {
      "model_module": "@jupyter-widgets/controls",
      "model_module_version": "1.5.0",
      "model_name": "HTMLModel",
      "state": {
       "_dom_classes": [],
       "_model_module": "@jupyter-widgets/controls",
       "_model_module_version": "1.5.0",
       "_model_name": "HTMLModel",
       "_view_count": null,
       "_view_module": "@jupyter-widgets/controls",
       "_view_module_version": "1.5.0",
       "_view_name": "HTMLView",
       "description": "",
       "description_tooltip": null,
       "layout": "IPY_MODEL_82048c606a6a44609312b4bbb1427842",
       "placeholder": "​",
       "style": "IPY_MODEL_a51a9f315ed043379c100cbd6d68b999",
       "value": " 28.0/28.0 [00:00&lt;00:00, 2.11kB/s]"
      }
     },
     "c7d88033d6674fa2b22969b3e9da151b": {
      "model_module": "@jupyter-widgets/base",
      "model_module_version": "1.2.0",
      "model_name": "LayoutModel",
      "state": {
       "_model_module": "@jupyter-widgets/base",
       "_model_module_version": "1.2.0",
       "_model_name": "LayoutModel",
       "_view_count": null,
       "_view_module": "@jupyter-widgets/base",
       "_view_module_version": "1.2.0",
       "_view_name": "LayoutView",
       "align_content": null,
       "align_items": null,
       "align_self": null,
       "border": null,
       "bottom": null,
       "display": null,
       "flex": null,
       "flex_flow": null,
       "grid_area": null,
       "grid_auto_columns": null,
       "grid_auto_flow": null,
       "grid_auto_rows": null,
       "grid_column": null,
       "grid_gap": null,
       "grid_row": null,
       "grid_template_areas": null,
       "grid_template_columns": null,
       "grid_template_rows": null,
       "height": null,
       "justify_content": null,
       "justify_items": null,
       "left": null,
       "margin": null,
       "max_height": null,
       "max_width": null,
       "min_height": null,
       "min_width": null,
       "object_fit": null,
       "object_position": null,
       "order": null,
       "overflow": null,
       "overflow_x": null,
       "overflow_y": null,
       "padding": null,
       "right": null,
       "top": null,
       "visibility": null,
       "width": null
      }
     },
     "cb2227e4f3bc4ce685869609d3df8cd4": {
      "model_module": "@jupyter-widgets/base",
      "model_module_version": "1.2.0",
      "model_name": "LayoutModel",
      "state": {
       "_model_module": "@jupyter-widgets/base",
       "_model_module_version": "1.2.0",
       "_model_name": "LayoutModel",
       "_view_count": null,
       "_view_module": "@jupyter-widgets/base",
       "_view_module_version": "1.2.0",
       "_view_name": "LayoutView",
       "align_content": null,
       "align_items": null,
       "align_self": null,
       "border": null,
       "bottom": null,
       "display": null,
       "flex": null,
       "flex_flow": null,
       "grid_area": null,
       "grid_auto_columns": null,
       "grid_auto_flow": null,
       "grid_auto_rows": null,
       "grid_column": null,
       "grid_gap": null,
       "grid_row": null,
       "grid_template_areas": null,
       "grid_template_columns": null,
       "grid_template_rows": null,
       "height": null,
       "justify_content": null,
       "justify_items": null,
       "left": null,
       "margin": null,
       "max_height": null,
       "max_width": null,
       "min_height": null,
       "min_width": null,
       "object_fit": null,
       "object_position": null,
       "order": null,
       "overflow": null,
       "overflow_x": null,
       "overflow_y": null,
       "padding": null,
       "right": null,
       "top": null,
       "visibility": null,
       "width": null
      }
     },
     "cccbddf67ffa40c2b8ddfd9d3698a749": {
      "model_module": "@jupyter-widgets/controls",
      "model_module_version": "1.5.0",
      "model_name": "FloatProgressModel",
      "state": {
       "_dom_classes": [],
       "_model_module": "@jupyter-widgets/controls",
       "_model_module_version": "1.5.0",
       "_model_name": "FloatProgressModel",
       "_view_count": null,
       "_view_module": "@jupyter-widgets/controls",
       "_view_module_version": "1.5.0",
       "_view_name": "ProgressView",
       "bar_style": "success",
       "description": "",
       "description_tooltip": null,
       "layout": "IPY_MODEL_2c52ae93579c47e58a9e1dc2844f0661",
       "max": 483.0,
       "min": 0.0,
       "orientation": "horizontal",
       "style": "IPY_MODEL_d99f7b7c04054b4099008b92c057f606",
       "value": 483.0
      }
     },
     "d23084ae930243349bc742bb6aee4755": {
      "model_module": "@jupyter-widgets/base",
      "model_module_version": "1.2.0",
      "model_name": "LayoutModel",
      "state": {
       "_model_module": "@jupyter-widgets/base",
       "_model_module_version": "1.2.0",
       "_model_name": "LayoutModel",
       "_view_count": null,
       "_view_module": "@jupyter-widgets/base",
       "_view_module_version": "1.2.0",
       "_view_name": "LayoutView",
       "align_content": null,
       "align_items": null,
       "align_self": null,
       "border": null,
       "bottom": null,
       "display": null,
       "flex": null,
       "flex_flow": null,
       "grid_area": null,
       "grid_auto_columns": null,
       "grid_auto_flow": null,
       "grid_auto_rows": null,
       "grid_column": null,
       "grid_gap": null,
       "grid_row": null,
       "grid_template_areas": null,
       "grid_template_columns": null,
       "grid_template_rows": null,
       "height": null,
       "justify_content": null,
       "justify_items": null,
       "left": null,
       "margin": null,
       "max_height": null,
       "max_width": null,
       "min_height": null,
       "min_width": null,
       "object_fit": null,
       "object_position": null,
       "order": null,
       "overflow": null,
       "overflow_x": null,
       "overflow_y": null,
       "padding": null,
       "right": null,
       "top": null,
       "visibility": null,
       "width": null
      }
     },
     "d99f7b7c04054b4099008b92c057f606": {
      "model_module": "@jupyter-widgets/controls",
      "model_module_version": "1.5.0",
      "model_name": "ProgressStyleModel",
      "state": {
       "_model_module": "@jupyter-widgets/controls",
       "_model_module_version": "1.5.0",
       "_model_name": "ProgressStyleModel",
       "_view_count": null,
       "_view_module": "@jupyter-widgets/base",
       "_view_module_version": "1.2.0",
       "_view_name": "StyleView",
       "bar_color": null,
       "description_width": ""
      }
     },
     "e1f0aed8327942af8281918413b39999": {
      "model_module": "@jupyter-widgets/base",
      "model_module_version": "1.2.0",
      "model_name": "LayoutModel",
      "state": {
       "_model_module": "@jupyter-widgets/base",
       "_model_module_version": "1.2.0",
       "_model_name": "LayoutModel",
       "_view_count": null,
       "_view_module": "@jupyter-widgets/base",
       "_view_module_version": "1.2.0",
       "_view_name": "LayoutView",
       "align_content": null,
       "align_items": null,
       "align_self": null,
       "border": null,
       "bottom": null,
       "display": null,
       "flex": null,
       "flex_flow": null,
       "grid_area": null,
       "grid_auto_columns": null,
       "grid_auto_flow": null,
       "grid_auto_rows": null,
       "grid_column": null,
       "grid_gap": null,
       "grid_row": null,
       "grid_template_areas": null,
       "grid_template_columns": null,
       "grid_template_rows": null,
       "height": null,
       "justify_content": null,
       "justify_items": null,
       "left": null,
       "margin": null,
       "max_height": null,
       "max_width": null,
       "min_height": null,
       "min_width": null,
       "object_fit": null,
       "object_position": null,
       "order": null,
       "overflow": null,
       "overflow_x": null,
       "overflow_y": null,
       "padding": null,
       "right": null,
       "top": null,
       "visibility": null,
       "width": null
      }
     },
     "ebcec43afce14a548448c8a2cf5470ce": {
      "model_module": "@jupyter-widgets/base",
      "model_module_version": "1.2.0",
      "model_name": "LayoutModel",
      "state": {
       "_model_module": "@jupyter-widgets/base",
       "_model_module_version": "1.2.0",
       "_model_name": "LayoutModel",
       "_view_count": null,
       "_view_module": "@jupyter-widgets/base",
       "_view_module_version": "1.2.0",
       "_view_name": "LayoutView",
       "align_content": null,
       "align_items": null,
       "align_self": null,
       "border": null,
       "bottom": null,
       "display": null,
       "flex": null,
       "flex_flow": null,
       "grid_area": null,
       "grid_auto_columns": null,
       "grid_auto_flow": null,
       "grid_auto_rows": null,
       "grid_column": null,
       "grid_gap": null,
       "grid_row": null,
       "grid_template_areas": null,
       "grid_template_columns": null,
       "grid_template_rows": null,
       "height": null,
       "justify_content": null,
       "justify_items": null,
       "left": null,
       "margin": null,
       "max_height": null,
       "max_width": null,
       "min_height": null,
       "min_width": null,
       "object_fit": null,
       "object_position": null,
       "order": null,
       "overflow": null,
       "overflow_x": null,
       "overflow_y": null,
       "padding": null,
       "right": null,
       "top": null,
       "visibility": null,
       "width": null
      }
     },
     "f32ac8dc20114077a036928b6217feb2": {
      "model_module": "@jupyter-widgets/controls",
      "model_module_version": "1.5.0",
      "model_name": "FloatProgressModel",
      "state": {
       "_dom_classes": [],
       "_model_module": "@jupyter-widgets/controls",
       "_model_module_version": "1.5.0",
       "_model_name": "FloatProgressModel",
       "_view_count": null,
       "_view_module": "@jupyter-widgets/controls",
       "_view_module_version": "1.5.0",
       "_view_name": "ProgressView",
       "bar_style": "success",
       "description": "",
       "description_tooltip": null,
       "layout": "IPY_MODEL_47d92f5546854b4f8ebd05a4e0a76b93",
       "max": 28.0,
       "min": 0.0,
       "orientation": "horizontal",
       "style": "IPY_MODEL_6c13507bddbd468b9f10d553101f372d",
       "value": 28.0
      }
     },
     "f49682e5909446fd95a6c7a7cb553e70": {
      "model_module": "@jupyter-widgets/controls",
      "model_module_version": "1.5.0",
      "model_name": "ProgressStyleModel",
      "state": {
       "_model_module": "@jupyter-widgets/controls",
       "_model_module_version": "1.5.0",
       "_model_name": "ProgressStyleModel",
       "_view_count": null,
       "_view_module": "@jupyter-widgets/base",
       "_view_module_version": "1.2.0",
       "_view_name": "StyleView",
       "bar_color": null,
       "description_width": ""
      }
     },
     "fac600b47cc646aeb003a929da7c4fca": {
      "model_module": "@jupyter-widgets/controls",
      "model_module_version": "1.5.0",
      "model_name": "DescriptionStyleModel",
      "state": {
       "_model_module": "@jupyter-widgets/controls",
       "_model_module_version": "1.5.0",
       "_model_name": "DescriptionStyleModel",
       "_view_count": null,
       "_view_module": "@jupyter-widgets/base",
       "_view_module_version": "1.2.0",
       "_view_name": "StyleView",
       "description_width": ""
      }
     }
    },
    "version_major": 2,
    "version_minor": 0
   }
  }
 },
 "nbformat": 4,
 "nbformat_minor": 5
}
